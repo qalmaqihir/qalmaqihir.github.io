{
 "cells": [
  {
   "cell_type": "code",
   "execution_count": null,
   "id": "8b465b26-77a3-4127-b0db-0a9224d3f11a",
   "metadata": {},
   "outputs": [],
   "source": []
  },
  {
   "cell_type": "raw",
   "id": "c68f1e78-c431-4257-a277-c6d8d7429b1c",
   "metadata": {
    "tags": []
   },
   "source": [
    "---\n",
    "title: \"Notes [Book] Data Science Handbook\"\n",
    "author: \"by Jawad Haider\"\n",
    "format: \n",
    "  gfm: \n",
    "    toc: true\n",
    "    toc-name: Contents\n",
    "link-external-newwindow: true\n",
    "html-math-method: katex\n",
    "anchor-sections: true\n",
    "smooth-scroll: true\n",
    "link-external-icon: true\n",
    "jupyter: python3\n",
    "comments:\n",
    "  hypothesis: \n",
    "    theme: clean\n",
    "reference-location: margin\n",
    "\n",
    "---"
   ]
  },
  {
   "cell_type": "markdown",
   "id": "99ff8cb2-9070-4cb2-8eb5-9063870d55b0",
   "metadata": {
    "tags": []
   },
   "source": [
    "___\n",
    "\n",
    "<center><a href=''><img src='../../../assets/img/logo1.png'/></a></center>\n",
    "\n",
    "___ \n",
    "\n",
    "\n",
    "<center><em>Copyright Qalmaqihir</em></center>\n",
    "<center><em>For more information, visit us at <a href='http://www.github.com/qalmaqihir/'>www.github.com/qalmaqihir/</a></em></center>"
   ]
  },
  {
   "cell_type": "markdown",
   "id": "cadd0cdf",
   "metadata": {},
   "source": [
    "# Working with Time Series\n",
    "Pandas was developed in the context of financial modeling, so as you might expect, it\n",
    "contains a fairly extensive set of tools for working with dates, times, and time-\n",
    "indexed data. Date and time data comes in a few flavors, which we will discuss here:\n",
    "\n",
    "• Time stamps reference particular moments in time (e.g., July 4th, 2015, at 7:00a.m.).  \n",
    "• Time intervals and periods reference a length of time between a particular beginning and end point—for example, the year 2015. Periods usually reference a special case of time intervals in which each interval is of uniform length and does not overlap (e.g., 24 hour-long periods constituting days).  \n",
    "• Time deltas or durations reference an exact length of time (e.g., a duration of 22.56 seconds).  "
   ]
  },
  {
   "cell_type": "markdown",
   "id": "100bab3c",
   "metadata": {},
   "source": [
    "## Dates and Times in Python\n",
    "The Python world has a number of available representations of dates, times, deltas,\n",
    "and timespans. While the time series tools provided by Pandas tend to be the most\n",
    "useful for data science applications, it is helpful to see their relationship to other\n",
    "packages used in Python.\n",
    "\n",
    "### Native Python dates and times: datetime and dateutil\n",
    "Python’s basic objects for working with dates and times reside in the built-in date\n",
    "time module. Along with the third-party dateutil module, you can use it to quickly\n",
    "perform a host of useful functionalities on dates and times. For example, you can\n",
    "manually build a date using the datetime type:"
   ]
  },
  {
   "cell_type": "code",
   "execution_count": 1,
   "id": "f8282274",
   "metadata": {},
   "outputs": [
    {
     "data": {
      "text/plain": [
       "datetime.datetime(2022, 7, 30, 0, 0)"
      ]
     },
     "execution_count": 1,
     "metadata": {},
     "output_type": "execute_result"
    }
   ],
   "source": [
    "from datetime import datetime\n",
    "datetime(year=2022, month=7,day=30)"
   ]
  },
  {
   "cell_type": "code",
   "execution_count": 2,
   "id": "2769dc0f",
   "metadata": {},
   "outputs": [
    {
     "data": {
      "text/plain": [
       "datetime.datetime(2022, 8, 30, 0, 0)"
      ]
     },
     "execution_count": 2,
     "metadata": {},
     "output_type": "execute_result"
    }
   ],
   "source": [
    "# Using the dateutil moduel, we can parse dates from different string formats\n",
    "from dateutil import parser\n",
    "date=parser.parse(\"30th of August 2022\")\n",
    "date"
   ]
  },
  {
   "cell_type": "code",
   "execution_count": 4,
   "id": "c11edcad",
   "metadata": {},
   "outputs": [
    {
     "data": {
      "text/plain": [
       "'Tuesday'"
      ]
     },
     "execution_count": 4,
     "metadata": {},
     "output_type": "execute_result"
    }
   ],
   "source": [
    "# once we have a datetime object, we can do things like printng the day of the week\n",
    "date.strftime('%A')\n",
    "\n",
    "#In the final line, we’ve used one of the standard string format codes for printing dates\n",
    "#(\"%A\"),"
   ]
  },
  {
   "cell_type": "markdown",
   "id": "f3e87ed8",
   "metadata": {},
   "source": [
    "__A related package to be aware of is pytz, which contains tools\n",
    "for working with the most migraine-inducing piece of time series data: time zones.__  \n",
    "The power of datetime and dateutil lies in their flexibility and easy syntax: you can\n",
    "use these objects and their built-in methods to easily perform nearly any operation\n",
    "you might be interested in. Where they break down is when you wish to work with\n",
    "large arrays of dates and times: just as lists of Python numerical variables are subopti‐\n",
    "mal compared to NumPy-style typed numerical arrays, lists of Python datetime\n",
    "objects are suboptimal compared to typed arrays of encoded dates.  \n",
    "### Typed arrays of times: NumPy’s datetime64\n",
    "The weaknesses of Python’s datetime format inspired the NumPy team to add a set of\n",
    "native time series data type to NumPy. The datetime64 dtype encodes dates as 64-bit\n",
    "integers, and thus allows arrays of dates to be represented very compactly. The date\n",
    "time64 requires a very specific input format:"
   ]
  },
  {
   "cell_type": "code",
   "execution_count": 5,
   "id": "d3f81522",
   "metadata": {},
   "outputs": [
    {
     "data": {
      "text/plain": [
       "array('2022-07-30', dtype='datetime64[D]')"
      ]
     },
     "execution_count": 5,
     "metadata": {},
     "output_type": "execute_result"
    }
   ],
   "source": [
    "import numpy as np\n",
    "date=np.array('2022-07-30',dtype=np.datetime64)\n",
    "date"
   ]
  },
  {
   "cell_type": "code",
   "execution_count": 6,
   "id": "2d6435fe",
   "metadata": {},
   "outputs": [
    {
     "data": {
      "text/plain": [
       "array(['2022-07-30', '2022-07-31', '2022-08-01', '2022-08-02',\n",
       "       '2022-08-03', '2022-08-04', '2022-08-05', '2022-08-06',\n",
       "       '2022-08-07', '2022-08-08', '2022-08-09', '2022-08-10'],\n",
       "      dtype='datetime64[D]')"
      ]
     },
     "execution_count": 6,
     "metadata": {},
     "output_type": "execute_result"
    }
   ],
   "source": [
    "# Now we can do vectorized operation on it\n",
    "date + np.arange(12)"
   ]
  },
  {
   "cell_type": "markdown",
   "id": "b8afd72c",
   "metadata": {},
   "source": [
    "_Because of the uniform type in NumPy datetime64 arrays, this type of operation can\n",
    "be accomplished much more quickly than if we were working directly with Python’s\n",
    "datetime objects, especially as arrays get large (we introduced this type of vectoriza‐\n",
    "tion in “Computation on NumPy Arrays: Universal Functions” on page 50).\n",
    "One detail of the datetime64 and timedelta64 objects is that they are built on a fun‐\n",
    "damental time unit. Because the datetime64 object is limited to 64-bit precision, the\n",
    "range of encodable times is 264 times this fundamental unit. In other words, date\n",
    "time64 imposes a trade-off between time resolution and maximum time span._\n",
    "\n",
    "**For example, if you want a time resolution of one nanosecond, you only have enough\n",
    "information to encode a range of 264 nanoseconds, or just under 600 years. NumPy\n",
    "will infer the desired unit from the input; for example, here is a day-based datetime:**"
   ]
  },
  {
   "cell_type": "code",
   "execution_count": 7,
   "id": "e61a06ad",
   "metadata": {},
   "outputs": [
    {
     "data": {
      "text/plain": [
       "numpy.datetime64('2022-07-30T12:00')"
      ]
     },
     "execution_count": 7,
     "metadata": {},
     "output_type": "execute_result"
    }
   ],
   "source": [
    "np.datetime64('2022-07-30 12:00')"
   ]
  },
  {
   "cell_type": "markdown",
   "id": "bb1c3967",
   "metadata": {},
   "source": [
    "Notice that the time zone is automatically set to the local time on the computer exe‐\n",
    "cuting the code. You can force any desired fundamental unit using one of many for‐\n",
    "mat codes; for example, here we’ll force a nanosecond-based time:"
   ]
  },
  {
   "cell_type": "code",
   "execution_count": 9,
   "id": "eaefd6d2",
   "metadata": {},
   "outputs": [
    {
     "ename": "ValueError",
     "evalue": "Error parsing datetime string \"2022-7-30 12:59.50\" at position 5",
     "output_type": "error",
     "traceback": [
      "\u001b[0;31m---------------------------------------------------------------------------\u001b[0m",
      "\u001b[0;31mValueError\u001b[0m                                Traceback (most recent call last)",
      "Input \u001b[0;32mIn [9]\u001b[0m, in \u001b[0;36m<cell line: 1>\u001b[0;34m()\u001b[0m\n\u001b[0;32m----> 1\u001b[0m \u001b[43mnp\u001b[49m\u001b[38;5;241;43m.\u001b[39;49m\u001b[43mdatetime64\u001b[49m\u001b[43m(\u001b[49m\u001b[38;5;124;43m'\u001b[39;49m\u001b[38;5;124;43m2022-7-30 12:59.50\u001b[39;49m\u001b[38;5;124;43m'\u001b[39;49m\u001b[43m,\u001b[49m\u001b[38;5;124;43m'\u001b[39;49m\u001b[38;5;124;43mns\u001b[39;49m\u001b[38;5;124;43m'\u001b[39;49m\u001b[43m)\u001b[49m\n",
      "\u001b[0;31mValueError\u001b[0m: Error parsing datetime string \"2022-7-30 12:59.50\" at position 5"
     ]
    }
   ],
   "source": [
    "np.datetime64('2022-7-30 12:59.50','ns')"
   ]
  },
  {
   "cell_type": "markdown",
   "id": "ba1363a8",
   "metadata": {},
   "source": [
    "### Dates and times in Pandas: Best of both worlds\n",
    "Pandas builds upon all the tools just discussed to provide a Timestamp object, which\n",
    "combines the ease of use of datetime and dateutil with the efficient storage and\n",
    "vectorized interface of numpy.datetime64. From a group of these Timestamp objects,\n",
    "Pandas can construct a DatetimeIndex that can be used to index data in a Series or\n",
    "DataFrame; we’ll see many examples of this below.\n",
    "For example, we can use Pandas tools to repeat the demonstration from above.\n",
    "We\n",
    "can parse a flexibly formatted string date, and use format codes to output the day of\n",
    "the week:"
   ]
  },
  {
   "cell_type": "code",
   "execution_count": 10,
   "id": "7c691e3d",
   "metadata": {},
   "outputs": [],
   "source": [
    "import pandas as pd\n"
   ]
  },
  {
   "cell_type": "code",
   "execution_count": 11,
   "id": "9265e1e6",
   "metadata": {},
   "outputs": [],
   "source": [
    "date=pd.to_datetime('30th August, 2022')"
   ]
  },
  {
   "cell_type": "code",
   "execution_count": 12,
   "id": "899da8e5",
   "metadata": {},
   "outputs": [
    {
     "data": {
      "text/plain": [
       "Timestamp('2022-08-30 00:00:00')"
      ]
     },
     "execution_count": 12,
     "metadata": {},
     "output_type": "execute_result"
    }
   ],
   "source": [
    "date"
   ]
  },
  {
   "cell_type": "code",
   "execution_count": 14,
   "id": "ec9ce1fc",
   "metadata": {},
   "outputs": [
    {
     "data": {
      "text/plain": [
       "'Tuesday'"
      ]
     },
     "execution_count": 14,
     "metadata": {},
     "output_type": "execute_result"
    }
   ],
   "source": [
    "date.strftime('%A')"
   ]
  },
  {
   "cell_type": "code",
   "execution_count": 17,
   "id": "f536a73a",
   "metadata": {
    "scrolled": true
   },
   "outputs": [
    {
     "data": {
      "text/plain": [
       "DatetimeIndex(['2022-08-30', '2022-08-31', '2022-09-01', '2022-09-02',\n",
       "               '2022-09-03', '2022-09-04', '2022-09-05', '2022-09-06',\n",
       "               '2022-09-07', '2022-09-08', '2022-09-09', '2022-09-10'],\n",
       "              dtype='datetime64[ns]', freq=None)"
      ]
     },
     "execution_count": 17,
     "metadata": {},
     "output_type": "execute_result"
    }
   ],
   "source": [
    "# Additionaly we can do Numpy-style Vectorized operations directly on this object\n",
    "date+pd.to_timedelta(np.arange(12),'D')"
   ]
  },
  {
   "cell_type": "markdown",
   "id": "b3980c72",
   "metadata": {},
   "source": [
    "## Pandas Time Series: Indexing by Time\n",
    "Where the Pandas time series tools really become useful is when you begin to index\n",
    "data by timestamps. For example, we can construct a Series object that has time-\n",
    "indexed data:"
   ]
  },
  {
   "cell_type": "code",
   "execution_count": 20,
   "id": "9b75f5c9",
   "metadata": {},
   "outputs": [
    {
     "data": {
      "text/plain": [
       "2022-07-04    0\n",
       "2022-08-04    1\n",
       "2023-07-04    2\n",
       "2023-08-04    3\n",
       "dtype: int64"
      ]
     },
     "execution_count": 20,
     "metadata": {},
     "output_type": "execute_result"
    }
   ],
   "source": [
    "index = pd.DatetimeIndex(['2022-07-04','2022-08-04','2023-07-04','2023-08-04'])\n",
    "data=pd.Series([0,1,2,3], index=index)\n",
    "data"
   ]
  },
  {
   "cell_type": "code",
   "execution_count": 22,
   "id": "edfa0e1a",
   "metadata": {},
   "outputs": [
    {
     "data": {
      "text/plain": [
       "2022-07-04    0\n",
       "2022-08-04    1\n",
       "2023-07-04    2\n",
       "dtype: int64"
      ]
     },
     "execution_count": 22,
     "metadata": {},
     "output_type": "execute_result"
    }
   ],
   "source": [
    "data['2022-07-04':'2023-07-04']"
   ]
  },
  {
   "cell_type": "code",
   "execution_count": 23,
   "id": "89ad9c21",
   "metadata": {},
   "outputs": [
    {
     "data": {
      "text/plain": [
       "2022-07-04    0\n",
       "2022-08-04    1\n",
       "dtype: int64"
      ]
     },
     "execution_count": 23,
     "metadata": {},
     "output_type": "execute_result"
    }
   ],
   "source": [
    "# just passing year to obtain a slice\n",
    "data['2022']"
   ]
  },
  {
   "cell_type": "code",
   "execution_count": 24,
   "id": "62f2bf68",
   "metadata": {},
   "outputs": [
    {
     "data": {
      "text/plain": [
       "2023-07-04    2\n",
       "2023-08-04    3\n",
       "dtype: int64"
      ]
     },
     "execution_count": 24,
     "metadata": {},
     "output_type": "execute_result"
    }
   ],
   "source": [
    "data['2023']"
   ]
  },
  {
   "cell_type": "markdown",
   "id": "a59b7aa8",
   "metadata": {},
   "source": [
    "## Pandas Time Series Data Structures\n",
    "• For time stamps, Pandas provides the Timestamp type. As mentioned before, it is essentially a replacement for Python’s native datetime, but is based on the more efficient numpy.datetime64 data type. The associated index structure is DatetimeIndex. \n",
    "\n",
    "• For time periods, Pandas provides the Period type. This encodes a fixed frequency interval based on numpy.datetime64. The associated index structure is PeriodIndex.  \n",
    "\n",
    "• For time deltas or durations, Pandas provides the Timedelta type. Timedelta is a more efficient replacement for Python’s native datetime.timedelta type, and is based on numpy.timedelta64. The associated index structure is TimedeltaIndex.  \n",
    "\n",
    "__The most fundamental of these date/time objects are the Timestamp and DatetimeIn\n",
    "dex objects. While these class objects can be invoked directly, it is more common to\n",
    "use the `pd.to_datetime()` function, which can parse a wide variety of formats. Passing a single date to `pd.to_datetime()` yields a Timestamp; passing a series of dates by\n",
    "default yields a DatetimeIndex:__"
   ]
  },
  {
   "cell_type": "code",
   "execution_count": 25,
   "id": "32be6a2f",
   "metadata": {},
   "outputs": [
    {
     "data": {
      "text/plain": [
       "DatetimeIndex(['2022-07-30', '2022-07-30', '2022-07-30', '2022-07-30'], dtype='datetime64[ns]', freq=None)"
      ]
     },
     "execution_count": 25,
     "metadata": {},
     "output_type": "execute_result"
    }
   ],
   "source": [
    "dates=pd.to_datetime([datetime(2022,7,30),'30th of July, 2022','2022-7-30','20220730'])\n",
    "dates"
   ]
  },
  {
   "cell_type": "markdown",
   "id": "40429997",
   "metadata": {},
   "source": [
    "Any DatetimeIndex can be converted to a PeriodIndex with the to_period() func‐\n",
    "tion with the addition of a frequency code; here we’ll use 'D' to indicate daily\n",
    "frequency:"
   ]
  },
  {
   "cell_type": "code",
   "execution_count": 26,
   "id": "83ec3cee",
   "metadata": {},
   "outputs": [
    {
     "data": {
      "text/plain": [
       "PeriodIndex(['2022-07-30', '2022-07-30', '2022-07-30', '2022-07-30'], dtype='period[D]')"
      ]
     },
     "execution_count": 26,
     "metadata": {},
     "output_type": "execute_result"
    }
   ],
   "source": [
    "dates.to_period('D')"
   ]
  },
  {
   "cell_type": "code",
   "execution_count": 27,
   "id": "0b65e477",
   "metadata": {},
   "outputs": [
    {
     "data": {
      "text/plain": [
       "TimedeltaIndex(['0 days', '0 days', '0 days', '0 days'], dtype='timedelta64[ns]', freq=None)"
      ]
     },
     "execution_count": 27,
     "metadata": {},
     "output_type": "execute_result"
    }
   ],
   "source": [
    "# The above is a TimedeltaIndex, we can subtract one date from another\n",
    "dates-dates[0]"
   ]
  },
  {
   "cell_type": "code",
   "execution_count": 28,
   "id": "9792194c",
   "metadata": {},
   "outputs": [
    {
     "data": {
      "text/plain": [
       "DatetimeIndex(['2022-07-28', '2022-07-29', '2022-07-30', '2022-07-31'], dtype='datetime64[ns]', freq=None)"
      ]
     },
     "execution_count": 28,
     "metadata": {},
     "output_type": "execute_result"
    }
   ],
   "source": [
    "dates=pd.to_datetime([datetime(2022,7,28),'29th of July, 2022','2022-7-30','20220731'])\n",
    "dates"
   ]
  },
  {
   "cell_type": "code",
   "execution_count": 29,
   "id": "07bfb671",
   "metadata": {},
   "outputs": [
    {
     "data": {
      "text/plain": [
       "PeriodIndex(['2022-07-28', '2022-07-29', '2022-07-30', '2022-07-31'], dtype='period[D]')"
      ]
     },
     "execution_count": 29,
     "metadata": {},
     "output_type": "execute_result"
    }
   ],
   "source": [
    "dates.to_period('D')"
   ]
  },
  {
   "cell_type": "code",
   "execution_count": 30,
   "id": "734f3a2c",
   "metadata": {},
   "outputs": [
    {
     "data": {
      "text/plain": [
       "TimedeltaIndex(['0 days', '1 days', '2 days', '3 days'], dtype='timedelta64[ns]', freq=None)"
      ]
     },
     "execution_count": 30,
     "metadata": {},
     "output_type": "execute_result"
    }
   ],
   "source": [
    "dates-dates[0]"
   ]
  },
  {
   "cell_type": "code",
   "execution_count": 31,
   "id": "f9e763d3",
   "metadata": {},
   "outputs": [
    {
     "data": {
      "text/plain": [
       "TimedeltaIndex(['-1 days', '0 days', '1 days', '2 days'], dtype='timedelta64[ns]', freq=None)"
      ]
     },
     "execution_count": 31,
     "metadata": {},
     "output_type": "execute_result"
    }
   ],
   "source": [
    "dates-dates[1]"
   ]
  },
  {
   "cell_type": "markdown",
   "id": "4b60520c",
   "metadata": {},
   "source": [
    "### Regular sequences: pd.date_range()\n",
    "To make the creation of regular date sequences more convenient, Pandas offers a few\n",
    "functions for this purpose: pd.date_range() for timestamps, pd.period_range() for \n",
    "periods, and pd.timedelta_range() for time deltas.  \n",
    "_we have seen that Python range() and NumPy’s np.arange() turn a startpoint, endpoint, and optional stepsize\n",
    "into a sequence. Similarly, pd.date_range() accepts a start date, an end date, and an\n",
    "optional frequency code to create a regular sequence of dates. By default, the fre‐\n",
    "quency is one day:_"
   ]
  },
  {
   "cell_type": "code",
   "execution_count": 33,
   "id": "cb7f30ae",
   "metadata": {},
   "outputs": [
    {
     "data": {
      "text/plain": [
       "DatetimeIndex(['2022-07-30', '2022-07-31', '2022-08-01', '2022-08-02',\n",
       "               '2022-08-03', '2022-08-04', '2022-08-05', '2022-08-06',\n",
       "               '2022-08-07', '2022-08-08',\n",
       "               ...\n",
       "               '2023-07-21', '2023-07-22', '2023-07-23', '2023-07-24',\n",
       "               '2023-07-25', '2023-07-26', '2023-07-27', '2023-07-28',\n",
       "               '2023-07-29', '2023-07-30'],\n",
       "              dtype='datetime64[ns]', length=366, freq='D')"
      ]
     },
     "execution_count": 33,
     "metadata": {},
     "output_type": "execute_result"
    }
   ],
   "source": [
    "pd.date_range('2022-07-30','2023-07-30')\n"
   ]
  },
  {
   "cell_type": "markdown",
   "id": "2f5180ee",
   "metadata": {},
   "source": [
    "__Alternatively, the date range can be specified not with a start- and endpoint, but with\n",
    "a startpoint and a number of periods:__"
   ]
  },
  {
   "cell_type": "code",
   "execution_count": 34,
   "id": "d4789dd7",
   "metadata": {},
   "outputs": [
    {
     "data": {
      "text/plain": [
       "DatetimeIndex(['2022-07-30', '2022-07-31', '2022-08-01', '2022-08-02',\n",
       "               '2022-08-03', '2022-08-04', '2022-08-05', '2022-08-06'],\n",
       "              dtype='datetime64[ns]', freq='D')"
      ]
     },
     "execution_count": 34,
     "metadata": {},
     "output_type": "execute_result"
    }
   ],
   "source": [
    "\n",
    "pd.date_range('2022-07-30', periods=8)"
   ]
  },
  {
   "cell_type": "markdown",
   "id": "2bfdb3a6",
   "metadata": {},
   "source": [
    "__You can modify the spacing by altering the freq argument, which defaults to D. For\n",
    "example, here we will construct a range of hourly timestamps:__"
   ]
  },
  {
   "cell_type": "code",
   "execution_count": 35,
   "id": "0987b13a",
   "metadata": {},
   "outputs": [
    {
     "data": {
      "text/plain": [
       "DatetimeIndex(['2022-07-30 00:00:00', '2022-07-30 01:00:00',\n",
       "               '2022-07-30 02:00:00', '2022-07-30 03:00:00',\n",
       "               '2022-07-30 04:00:00', '2022-07-30 05:00:00',\n",
       "               '2022-07-30 06:00:00', '2022-07-30 07:00:00'],\n",
       "              dtype='datetime64[ns]', freq='H')"
      ]
     },
     "execution_count": 35,
     "metadata": {},
     "output_type": "execute_result"
    }
   ],
   "source": [
    "pd.date_range('2022-07-30', periods=8, freq='H')"
   ]
  },
  {
   "cell_type": "markdown",
   "id": "1502f41a",
   "metadata": {},
   "source": [
    "__To create regular sequences of period or time delta values, the very similar\n",
    "pd.period_range() and pd.timedelta_range() functions are useful. Here are some\n",
    "monthly periods:__"
   ]
  },
  {
   "cell_type": "code",
   "execution_count": 37,
   "id": "9254b330",
   "metadata": {},
   "outputs": [
    {
     "data": {
      "text/plain": [
       "PeriodIndex(['2022-07', '2022-08', '2022-09', '2022-10', '2022-11', '2022-12',\n",
       "             '2023-01', '2023-02'],\n",
       "            dtype='period[M]')"
      ]
     },
     "execution_count": 37,
     "metadata": {},
     "output_type": "execute_result"
    }
   ],
   "source": [
    "pd.period_range('2022-07', periods=8, freq='M')"
   ]
  },
  {
   "cell_type": "code",
   "execution_count": 40,
   "id": "72632ade",
   "metadata": {},
   "outputs": [
    {
     "data": {
      "text/plain": [
       "TimedeltaIndex(['0 days 00:00:00', '0 days 01:00:00', '0 days 02:00:00',\n",
       "                '0 days 03:00:00', '0 days 04:00:00', '0 days 05:00:00',\n",
       "                '0 days 06:00:00', '0 days 07:00:00', '0 days 08:00:00',\n",
       "                '0 days 09:00:00'],\n",
       "               dtype='timedelta64[ns]', freq='H')"
      ]
     },
     "execution_count": 40,
     "metadata": {},
     "output_type": "execute_result"
    }
   ],
   "source": [
    "# and a sequence of durations increasing by an hour\n",
    "pd.timedelta_range(0, periods=10, freq='H')"
   ]
  },
  {
   "cell_type": "code",
   "execution_count": null,
   "id": "52927bd8",
   "metadata": {},
   "outputs": [],
   "source": []
  }
 ],
 "metadata": {
  "kernelspec": {
   "display_name": "Python 3 (ipykernel)",
   "language": "python",
   "name": "python3"
  },
  "language_info": {
   "codemirror_mode": {
    "name": "ipython",
    "version": 3
   },
   "file_extension": ".py",
   "mimetype": "text/x-python",
   "name": "python",
   "nbconvert_exporter": "python",
   "pygments_lexer": "ipython3",
   "version": "3.9.12"
  }
 },
 "nbformat": 4,
 "nbformat_minor": 5
}
