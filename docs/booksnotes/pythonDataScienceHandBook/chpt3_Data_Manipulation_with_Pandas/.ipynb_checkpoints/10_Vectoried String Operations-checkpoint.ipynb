{
 "cells": [
  {
   "cell_type": "code",
   "execution_count": null,
   "id": "e98ff9f9-5e7b-42b6-bac4-137db754c280",
   "metadata": {},
   "outputs": [],
   "source": []
  },
  {
   "cell_type": "raw",
   "id": "4be7d5f8-2bdd-44eb-a140-9113913414dc",
   "metadata": {
    "tags": []
   },
   "source": [
    "---\n",
    "title: \"Notes [Book] Data Science Handbook\"\n",
    "author: \"by Jawad Haider\"\n",
    "format: \n",
    "  gfm: \n",
    "    toc: true\n",
    "    toc-name: Contents\n",
    "link-external-newwindow: true\n",
    "html-math-method: katex\n",
    "anchor-sections: true\n",
    "smooth-scroll: true\n",
    "link-external-icon: true\n",
    "jupyter: python3\n",
    "comments:\n",
    "  hypothesis: \n",
    "    theme: clean\n",
    "reference-location: margin\n",
    "\n",
    "---"
   ]
  },
  {
   "cell_type": "markdown",
   "id": "23f53ab0-2435-47a8-a6bd-7b3f91661ec2",
   "metadata": {
    "tags": []
   },
   "source": [
    "___\n",
    "\n",
    "<center><a href=''><img src='../../../assets/img/logo1.png'/></a></center>\n",
    "\n",
    "___ \n",
    "\n",
    "\n",
    "<center><em>Copyright Qalmaqihir</em></center>\n",
    "<center><em>For more information, visit us at <a href='http://www.github.com/qalmaqihir/'>www.github.com/qalmaqihir/</a></em></center>"
   ]
  },
  {
   "cell_type": "markdown",
   "id": "94e84e9b",
   "metadata": {},
   "source": [
    "# Vectorized String Operations\n",
    "One strength of Python is its relative ease in handling and manipulating string data.\n",
    "Pandas builds on this and provides a comprehensive set of vectorized string operations\n",
    "that become an essential piece of the type of munging required when one is working\n",
    "with (read: cleaning up) real-world data. \n",
    "## Introducing Pandas String Operations\n",
    "We saw in previous sections how tools like NumPy and Pandas generalize arithmetic\n",
    "operations so that we can easily and quickly perform the same operation on many\n",
    "array elements."
   ]
  },
  {
   "cell_type": "code",
   "execution_count": 1,
   "id": "d732784f",
   "metadata": {},
   "outputs": [
    {
     "data": {
      "text/plain": [
       "array([ 4,  6, 10, 14, 22, 26])"
      ]
     },
     "execution_count": 1,
     "metadata": {},
     "output_type": "execute_result"
    }
   ],
   "source": [
    "import numpy as np\n",
    "x=np.array([2,3,5,7,11,13])\n",
    "x*2"
   ]
  },
  {
   "cell_type": "markdown",
   "id": "8dc71b1f",
   "metadata": {},
   "source": [
    "__This vectorization of operations simplifies the syntax of operating on arrays of data:\n",
    "we no longer have to worry about the size or shape of the array, but just about what\n",
    "operation we want done. For arrays of strings, NumPy does not provide such simple\n",
    "access, and thus you’re stuck using a more verbose loop syntax:__"
   ]
  },
  {
   "cell_type": "code",
   "execution_count": 2,
   "id": "78b9a433",
   "metadata": {},
   "outputs": [
    {
     "data": {
      "text/plain": [
       "['Peter', 'Khan', 'Haider', 'Killy', 'Guidol', ' ']"
      ]
     },
     "execution_count": 2,
     "metadata": {},
     "output_type": "execute_result"
    }
   ],
   "source": [
    "data=['peteR','khan','Haider','KILLY','GuIDol',' ']\n",
    "[s.capitalize() for s in data]"
   ]
  },
  {
   "cell_type": "code",
   "execution_count": 5,
   "id": "7e591e3f",
   "metadata": {},
   "outputs": [
    {
     "ename": "AttributeError",
     "evalue": "'NoneType' object has no attribute 'capitalize'",
     "output_type": "error",
     "traceback": [
      "\u001b[0;31m---------------------------------------------------------------------------\u001b[0m",
      "\u001b[0;31mAttributeError\u001b[0m                            Traceback (most recent call last)",
      "Input \u001b[0;32mIn [5]\u001b[0m, in \u001b[0;36m<cell line: 2>\u001b[0;34m()\u001b[0m\n\u001b[1;32m      1\u001b[0m data\u001b[38;5;241m=\u001b[39m[\u001b[38;5;124m'\u001b[39m\u001b[38;5;124mpeteR\u001b[39m\u001b[38;5;124m'\u001b[39m,\u001b[38;5;124m'\u001b[39m\u001b[38;5;124mkhan\u001b[39m\u001b[38;5;124m'\u001b[39m,\u001b[38;5;124m'\u001b[39m\u001b[38;5;124mHaider\u001b[39m\u001b[38;5;124m'\u001b[39m,\u001b[38;5;28;01mNone\u001b[39;00m,\u001b[38;5;124m'\u001b[39m\u001b[38;5;124mKILLY\u001b[39m\u001b[38;5;124m'\u001b[39m,\u001b[38;5;124m'\u001b[39m\u001b[38;5;124mGuIDol\u001b[39m\u001b[38;5;124m'\u001b[39m]\n\u001b[0;32m----> 2\u001b[0m [s\u001b[38;5;241m.\u001b[39mcapitalize() \u001b[38;5;28;01mfor\u001b[39;00m s \u001b[38;5;129;01min\u001b[39;00m data]\n",
      "Input \u001b[0;32mIn [5]\u001b[0m, in \u001b[0;36m<listcomp>\u001b[0;34m(.0)\u001b[0m\n\u001b[1;32m      1\u001b[0m data\u001b[38;5;241m=\u001b[39m[\u001b[38;5;124m'\u001b[39m\u001b[38;5;124mpeteR\u001b[39m\u001b[38;5;124m'\u001b[39m,\u001b[38;5;124m'\u001b[39m\u001b[38;5;124mkhan\u001b[39m\u001b[38;5;124m'\u001b[39m,\u001b[38;5;124m'\u001b[39m\u001b[38;5;124mHaider\u001b[39m\u001b[38;5;124m'\u001b[39m,\u001b[38;5;28;01mNone\u001b[39;00m,\u001b[38;5;124m'\u001b[39m\u001b[38;5;124mKILLY\u001b[39m\u001b[38;5;124m'\u001b[39m,\u001b[38;5;124m'\u001b[39m\u001b[38;5;124mGuIDol\u001b[39m\u001b[38;5;124m'\u001b[39m]\n\u001b[0;32m----> 2\u001b[0m [\u001b[43ms\u001b[49m\u001b[38;5;241;43m.\u001b[39;49m\u001b[43mcapitalize\u001b[49m() \u001b[38;5;28;01mfor\u001b[39;00m s \u001b[38;5;129;01min\u001b[39;00m data]\n",
      "\u001b[0;31mAttributeError\u001b[0m: 'NoneType' object has no attribute 'capitalize'"
     ]
    }
   ],
   "source": [
    "data=['peteR','khan','Haider',None,'KILLY','GuIDol']\n",
    "[s.capitalize() for s in data]"
   ]
  },
  {
   "cell_type": "markdown",
   "id": "a480f28a",
   "metadata": {},
   "source": [
    "*Pandas includes features to address both this need for vectorized string operations\n",
    "and for correctly handling missing data via the str attribute of Pandas Series and\n",
    "Index objects containing strings.*"
   ]
  },
  {
   "cell_type": "code",
   "execution_count": 6,
   "id": "506d9730",
   "metadata": {},
   "outputs": [
    {
     "data": {
      "text/plain": [
       "0     peteR\n",
       "1      khan\n",
       "2    Haider\n",
       "3      None\n",
       "4     KILLY\n",
       "5    GuIDol\n",
       "dtype: object"
      ]
     },
     "execution_count": 6,
     "metadata": {},
     "output_type": "execute_result"
    }
   ],
   "source": [
    "import pandas as pd\n",
    "names=pd.Series(data)\n",
    "names"
   ]
  },
  {
   "cell_type": "code",
   "execution_count": 7,
   "id": "0baf1cb2",
   "metadata": {},
   "outputs": [
    {
     "data": {
      "text/plain": [
       "0     Peter\n",
       "1      Khan\n",
       "2    Haider\n",
       "3      None\n",
       "4     Killy\n",
       "5    Guidol\n",
       "dtype: object"
      ]
     },
     "execution_count": 7,
     "metadata": {},
     "output_type": "execute_result"
    }
   ],
   "source": [
    "# Now we can capitalize All without any error\n",
    "names.str.capitalize()"
   ]
  },
  {
   "cell_type": "markdown",
   "id": "24666b4f",
   "metadata": {},
   "source": [
    "## Tables of Pandas String Methods\n",
    "If you have a good understanding of string manipulation in Python, most of Pandas’\n",
    "string syntax is intuitive enough that it’s probably sufficient to just list a table of avail‐\n",
    "able methods; we will start with that here, before diving deeper into a few of the sub‐\n",
    "tleties."
   ]
  },
  {
   "cell_type": "code",
   "execution_count": 8,
   "id": "f323335a",
   "metadata": {},
   "outputs": [],
   "source": [
    "monte = pd.Series(['Graham Chapman', 'John Cleese', 'Terry Gilliam',\n",
    "'Eric Idle', 'Terry Jones', 'Michael Palin'])"
   ]
  },
  {
   "cell_type": "code",
   "execution_count": 9,
   "id": "0d277de6",
   "metadata": {},
   "outputs": [
    {
     "data": {
      "text/plain": [
       "0    Graham Chapman\n",
       "1       John Cleese\n",
       "2     Terry Gilliam\n",
       "3         Eric Idle\n",
       "4       Terry Jones\n",
       "5     Michael Palin\n",
       "dtype: object"
      ]
     },
     "execution_count": 9,
     "metadata": {},
     "output_type": "execute_result"
    }
   ],
   "source": [
    "monte"
   ]
  },
  {
   "cell_type": "markdown",
   "id": "1fef3976",
   "metadata": {},
   "source": [
    "Methods similar to Python string methods\n",
    "Nearly all Python’s built-in string methods are mirrored by a Pandas vectorized string\n",
    "method. Here is a list of Pandas str methods that mirror Python string methods:  \n",
    "\n",
    "\n",
    "|||||||||\n",
    "|---------|---------|---------|---------|---------|---------|---------|---------|\n",
    "|len()|lower()|translate()| ljust()| upper()|startswith()| isupper()|islower()|\n",
    "|rjust()|find()|endswith()|isnumeric()|center()| rfind()|isalnum()| |isdecimal()|zfill()|index()|isalpha()|split()|strip()|rindex()|isdigit()|\n",
    "|rsplit()|rstrip()| capitalize()| isspace()|partition()|lstrip()| swapcase()|rpartition()`|"
   ]
  },
  {
   "cell_type": "code",
   "execution_count": null,
   "id": "c882c0e8",
   "metadata": {},
   "outputs": [],
   "source": []
  }
 ],
 "metadata": {
  "kernelspec": {
   "display_name": "Python 3 (ipykernel)",
   "language": "python",
   "name": "python3"
  },
  "language_info": {
   "codemirror_mode": {
    "name": "ipython",
    "version": 3
   },
   "file_extension": ".py",
   "mimetype": "text/x-python",
   "name": "python",
   "nbconvert_exporter": "python",
   "pygments_lexer": "ipython3",
   "version": "3.9.12"
  }
 },
 "nbformat": 4,
 "nbformat_minor": 5
}
