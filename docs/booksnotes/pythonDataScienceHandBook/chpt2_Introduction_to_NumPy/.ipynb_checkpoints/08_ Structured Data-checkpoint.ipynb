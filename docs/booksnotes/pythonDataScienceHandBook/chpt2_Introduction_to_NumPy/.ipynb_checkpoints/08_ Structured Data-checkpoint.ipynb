{
 "cells": [
  {
   "cell_type": "code",
   "execution_count": null,
   "id": "c0461135-f449-481b-8944-c77d34435d89",
   "metadata": {},
   "outputs": [],
   "source": []
  },
  {
   "cell_type": "raw",
   "id": "39d214d0-1dfd-4198-b0e8-7c8bde32201b",
   "metadata": {},
   "source": [
    "---\n",
    "title: \"Notes [Book] Data Science Handbook\"\n",
    "author: \"by Jawad Haider\"\n",
    "format:\n",
    "  gfm: \n",
    "    toc: true\n",
    "    toc-title: Contents\n",
    "    toc-location: right\n",
    "    link-external-newwindow: true\n",
    "    html-math-method: katex\n",
    "    anchor-sections: true\n",
    "    smooth-scroll: true\n",
    "    link-external-icon: true\n",
    "jupyter: python3\n",
    "comments:\n",
    "  hypothesis: \n",
    "    theme: clean\n",
    "reference-location: margin\n",
    "\n",
    "---"
   ]
  },
  {
   "cell_type": "markdown",
   "id": "6153b707-ddad-4147-a034-e80bc5ef66c6",
   "metadata": {},
   "source": [
    "___\n",
    "\n",
    "<center><a href=''><img src='../../../img/logo1.png'/></a></center>\n",
    "\n",
    "___ \n",
    "\n",
    "\n",
    "<center><em>Copyright Qalmaqihir</em></center>\n",
    "<center><em>For more information, visit us at <a href='http://www.github.com/qalmaqihir/'>www.github.com/qalmaqihir/</a></em></center>"
   ]
  },
  {
   "cell_type": "markdown",
   "id": "f3da1adc",
   "metadata": {},
   "source": [
    "# Structured Data: NumPy’s Structured Arrays\n",
    "While often our data can be well represented by a homogeneous array of values,sometimes this is not the case.  \n",
    "This section demonstrates the use of NumPy’s struc‐\n",
    "tured arrays and record arrays, which provide efficient storage for compound, heterogeneous data. While the patterns shown here are useful for simple operations, scenarios like this often lend themselves to the use of Pandas DataFrames."
   ]
  },
  {
   "cell_type": "code",
   "execution_count": null,
   "id": "95301ad2",
   "metadata": {},
   "outputs": [],
   "source": []
  }
 ],
 "metadata": {
  "kernelspec": {
   "display_name": "Python 3 (ipykernel)",
   "language": "python",
   "name": "python3"
  },
  "language_info": {
   "codemirror_mode": {
    "name": "ipython",
    "version": 3
   },
   "file_extension": ".py",
   "mimetype": "text/x-python",
   "name": "python",
   "nbconvert_exporter": "python",
   "pygments_lexer": "ipython3",
   "version": "3.9.12"
  }
 },
 "nbformat": 4,
 "nbformat_minor": 5
}
