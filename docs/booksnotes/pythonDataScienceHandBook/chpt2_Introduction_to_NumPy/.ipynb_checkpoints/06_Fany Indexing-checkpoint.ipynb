{
 "cells": [
  {
   "cell_type": "code",
   "execution_count": null,
   "id": "f199c89c-0c92-4e76-aa09-22f518b2c541",
   "metadata": {},
   "outputs": [],
   "source": []
  },
  {
   "cell_type": "raw",
   "id": "4147e3f7-9ac1-4e3a-9a47-9252546b2f50",
   "metadata": {},
   "source": [
    "---\n",
    "title: \"Notes [Book] Data Science Handbook\"\n",
    "author: \"by Jawad Haider\"\n",
    "format: gfm\n",
    "toc: true\n",
    "toc-title: Contents\n",
    "toc-location: right\n",
    "link-external-newwindow: true\n",
    "html-math-method: katex\n",
    "anchor-sections: true\n",
    "smooth-scroll: true\n",
    "link-external-icon: true\n",
    "jupyter: python3\n",
    "comments:\n",
    "  hypothesis: \n",
    "    theme: clean\n",
    "reference-location: margin\n",
    "\n",
    "---"
   ]
  },
  {
   "cell_type": "markdown",
   "id": "f91510f1-bac1-434e-a712-e8483aaac9c5",
   "metadata": {},
   "source": [
    "___\n",
    "\n",
    "<center><a href=''><img src='../../../img/logo1.png'/></a></center>\n",
    "\n",
    "___ \n",
    "\n",
    "\n",
    "<center><em>Copyright Qalmaqihir</em></center>\n",
    "<center><em>For more information, visit us at <a href='http://www.github.com/qalmaqihir/'>www.github.com/qalmaqihir/</a></em></center>"
   ]
  },
  {
   "cell_type": "markdown",
   "id": "6eb73eb1",
   "metadata": {},
   "source": [
    "# Fancy Indexing\n",
    "In the previous sections, we saw how to access and modify portions of arrays using\n",
    "simple indices (e.g., `arr[0]`), slices (e.g., `arr[:5]`), and Boolean masks (e.g., arr`[arr> 0]`). In this section, we’ll look at another style of array indexing, known as fancy indexing. **Fancy indexing is like the simple indexing we’ve already seen, but we pass\n",
    "arrays of indices in place of single scalars. This allows us to very quickly access and modify complicated subsets of an array’s values.**"
   ]
  },
  {
   "cell_type": "markdown",
   "id": "eb254c08",
   "metadata": {},
   "source": [
    "## Exploring Fancy Indexing\n",
    "Fancy indexing is conceptually simple: it means passing an array of indices to access\n",
    "multiple array elements at once."
   ]
  },
  {
   "cell_type": "code",
   "execution_count": 1,
   "id": "8a29341e",
   "metadata": {},
   "outputs": [],
   "source": [
    "import numpy as np\n"
   ]
  },
  {
   "cell_type": "code",
   "execution_count": 2,
   "id": "b6165df6",
   "metadata": {},
   "outputs": [
    {
     "name": "stdout",
     "output_type": "stream",
     "text": [
      "[51 92 14 71 60 20 82 86 74 74]\n"
     ]
    }
   ],
   "source": [
    "rand=np.random.RandomState(42)\n",
    "x=rand.randint(100,size=10)\n",
    "print(x)"
   ]
  },
  {
   "cell_type": "code",
   "execution_count": 3,
   "id": "11060328",
   "metadata": {},
   "outputs": [
    {
     "data": {
      "text/plain": [
       "[71, 86, 14]"
      ]
     },
     "execution_count": 3,
     "metadata": {},
     "output_type": "execute_result"
    }
   ],
   "source": [
    "# three different elements\n",
    "[x[3],x[7],x[2]]"
   ]
  },
  {
   "cell_type": "code",
   "execution_count": 4,
   "id": "44735cc0",
   "metadata": {},
   "outputs": [
    {
     "data": {
      "text/plain": [
       "array([71, 86, 60])"
      ]
     },
     "execution_count": 4,
     "metadata": {},
     "output_type": "execute_result"
    }
   ],
   "source": [
    "# alternatively, we could do like this\n",
    "ind = [3, 7,4]\n",
    "x[ind]"
   ]
  },
  {
   "cell_type": "markdown",
   "id": "ec76475e",
   "metadata": {},
   "source": [
    "***With fancy indexing, the shape of the result reflects the shape of the index arrays\n",
    "rather than the shape of the array being indexed:***"
   ]
  },
  {
   "cell_type": "code",
   "execution_count": 6,
   "id": "7ca463a6",
   "metadata": {},
   "outputs": [
    {
     "data": {
      "text/plain": [
       "array([[71, 86],\n",
       "       [60, 20]])"
      ]
     },
     "execution_count": 6,
     "metadata": {},
     "output_type": "execute_result"
    }
   ],
   "source": [
    "ind=np.array([[3,7],[4,5]])\n",
    "x[ind]"
   ]
  },
  {
   "cell_type": "code",
   "execution_count": 8,
   "id": "ab27a664",
   "metadata": {},
   "outputs": [
    {
     "data": {
      "text/plain": [
       "array([[ 0,  1,  2,  3],\n",
       "       [ 4,  5,  6,  7],\n",
       "       [ 8,  9, 10, 11]])"
      ]
     },
     "execution_count": 8,
     "metadata": {},
     "output_type": "execute_result"
    }
   ],
   "source": [
    "# Multi-dimensional fancy indexing\n",
    "x=np.arange(12).reshape((3,4))\n",
    "x\n",
    "                        "
   ]
  },
  {
   "cell_type": "code",
   "execution_count": 9,
   "id": "3356e630",
   "metadata": {},
   "outputs": [
    {
     "data": {
      "text/plain": [
       "array([ 2,  5, 11])"
      ]
     },
     "execution_count": 9,
     "metadata": {},
     "output_type": "execute_result"
    }
   ],
   "source": [
    "row=np.array([0,1,2])\n",
    "col=np.array([2,1,3])\n",
    "x[row, col]"
   ]
  },
  {
   "cell_type": "code",
   "execution_count": 14,
   "id": "d6dd971c",
   "metadata": {},
   "outputs": [
    {
     "data": {
      "text/plain": [
       "array([[ 2,  1,  3],\n",
       "       [ 6,  5,  7],\n",
       "       [10,  9, 11]])"
      ]
     },
     "execution_count": 14,
     "metadata": {},
     "output_type": "execute_result"
    }
   ],
   "source": [
    "x[row[:,np.newaxis],col]"
   ]
  },
  {
   "cell_type": "code",
   "execution_count": 16,
   "id": "3bd294ed",
   "metadata": {},
   "outputs": [
    {
     "data": {
      "text/plain": [
       "array([[0],\n",
       "       [1],\n",
       "       [2]])"
      ]
     },
     "execution_count": 16,
     "metadata": {},
     "output_type": "execute_result"
    }
   ],
   "source": [
    "##Here, each row value is matched with each column vector, exactly as we saw in broad‐\n",
    "##casting of arithmetic operations\n",
    "\n",
    "row[:,np.newaxis]"
   ]
  },
  {
   "cell_type": "code",
   "execution_count": 17,
   "id": "cf33996c",
   "metadata": {},
   "outputs": [
    {
     "data": {
      "text/plain": [
       "array([[0, 0, 0],\n",
       "       [2, 1, 3],\n",
       "       [4, 2, 6]])"
      ]
     },
     "execution_count": 17,
     "metadata": {},
     "output_type": "execute_result"
    }
   ],
   "source": [
    "row[:,np.newaxis]*col"
   ]
  },
  {
   "cell_type": "code",
   "execution_count": 10,
   "id": "d2f9d301",
   "metadata": {},
   "outputs": [],
   "source": [
    "## It is always important to remember with fancy indexing that the return value reflects\n",
    "##the broadcasted shape of the indices, rather than the shape of the array being indexed.\n"
   ]
  },
  {
   "cell_type": "markdown",
   "id": "7e0a9a27",
   "metadata": {},
   "source": [
    "## Combined Indexing\n",
    "For even more powerful operations, fancy indexing can be combined with the other\n",
    "indexing schemes"
   ]
  },
  {
   "cell_type": "code",
   "execution_count": 11,
   "id": "79b70c92",
   "metadata": {},
   "outputs": [
    {
     "data": {
      "text/plain": [
       "array([[ 0,  1,  2,  3],\n",
       "       [ 4,  5,  6,  7],\n",
       "       [ 8,  9, 10, 11]])"
      ]
     },
     "execution_count": 11,
     "metadata": {},
     "output_type": "execute_result"
    }
   ],
   "source": [
    "x"
   ]
  },
  {
   "cell_type": "code",
   "execution_count": 12,
   "id": "dcbbe675",
   "metadata": {},
   "outputs": [
    {
     "data": {
      "text/plain": [
       "array([10,  8,  9])"
      ]
     },
     "execution_count": 12,
     "metadata": {},
     "output_type": "execute_result"
    }
   ],
   "source": [
    "# Combing fancy and simple index\n",
    "x[2,[2,0,1]]"
   ]
  },
  {
   "cell_type": "code",
   "execution_count": 13,
   "id": "70b4250b",
   "metadata": {},
   "outputs": [
    {
     "data": {
      "text/plain": [
       "array([[ 0,  2],\n",
       "       [ 4,  6],\n",
       "       [ 8, 10]])"
      ]
     },
     "execution_count": 13,
     "metadata": {},
     "output_type": "execute_result"
    }
   ],
   "source": [
    "# Combining fancy indexing with masking\n",
    "mask=np.array([1,0,1,0], dtype=bool)\n",
    "x[row[:,np.newaxis],mask]"
   ]
  },
  {
   "cell_type": "markdown",
   "id": "8ae378e3",
   "metadata": {},
   "source": [
    "## Example: Selecting Random Points\n",
    "One common use of fancy indexing is the selection of subsets of rows from a matrix.\n",
    "For example, we might have an N by D matrix representing N points in D dimen‐\n",
    "sions, such as the following points drawn from a two-dimensional normal distribu‐\n",
    "tion"
   ]
  },
  {
   "cell_type": "code",
   "execution_count": 18,
   "id": "ce76b6e7",
   "metadata": {},
   "outputs": [
    {
     "data": {
      "text/plain": [
       "(100, 2)"
      ]
     },
     "execution_count": 18,
     "metadata": {},
     "output_type": "execute_result"
    }
   ],
   "source": [
    "mean=[0,0]\n",
    "conv=[[1,2],\n",
    "     [2,5]]\n",
    "x=rand.multivariate_normal(mean,conv,100)\n",
    "x.shape"
   ]
  },
  {
   "cell_type": "code",
   "execution_count": 19,
   "id": "bfe762a4",
   "metadata": {
    "scrolled": true
   },
   "outputs": [
    {
     "name": "stdout",
     "output_type": "stream",
     "text": [
      "[[-0.644508   -0.46220608]\n",
      " [ 0.7376352   1.21236921]\n",
      " [ 0.88151763  1.12795177]\n",
      " [ 2.04998983  5.97778598]\n",
      " [-0.1711348  -2.06258746]\n",
      " [ 0.67956979  0.83705124]\n",
      " [ 1.46860232  1.22961093]\n",
      " [ 0.35282131  1.49875397]\n",
      " [-2.51552505 -5.64629995]\n",
      " [ 0.0843329  -0.3543059 ]\n",
      " [ 0.19199272  1.48901291]\n",
      " [-0.02566217 -0.74987887]\n",
      " [ 1.00569227  2.25287315]\n",
      " [ 0.49514263  1.18939673]\n",
      " [ 0.0629872   0.57349278]\n",
      " [ 0.75093031  2.99487004]\n",
      " [-3.0236127  -6.00766046]\n",
      " [-0.53943081 -0.3478899 ]\n",
      " [ 1.53817376  1.99973464]\n",
      " [-0.50886808 -1.81099656]\n",
      " [ 1.58115602  2.86410319]\n",
      " [ 0.99305043  2.54294059]\n",
      " [-0.87753796 -1.15767204]\n",
      " [-1.11518048 -1.87508012]\n",
      " [ 0.4299908   0.36324254]\n",
      " [ 0.97253528  3.53815717]\n",
      " [ 0.32124996  0.33137032]\n",
      " [-0.74618649 -2.77366681]\n",
      " [-0.88473953 -1.81495444]\n",
      " [ 0.98783862  2.30280401]\n",
      " [-1.2033623  -2.04402725]\n",
      " [-1.51101746 -3.2818741 ]\n",
      " [-2.76337717 -7.66760648]\n",
      " [ 0.39158553  0.87949228]\n",
      " [ 0.91181024  3.32968944]\n",
      " [-0.84202629 -2.01226547]\n",
      " [ 1.06586877  0.95500019]\n",
      " [ 0.44457363  1.87828298]\n",
      " [ 0.35936721  0.40554974]\n",
      " [-0.90649669 -0.93486441]\n",
      " [-0.35790389 -0.52363012]\n",
      " [-1.33461668 -3.03203218]\n",
      " [ 0.02815138  0.79654924]\n",
      " [ 0.37785618  0.51409383]\n",
      " [-1.06505097 -2.88726779]\n",
      " [ 2.32083881  5.97698647]\n",
      " [ 0.47605744  0.83634485]\n",
      " [-0.35490984 -1.03657119]\n",
      " [ 0.57532883 -0.79997124]\n",
      " [ 0.33399913  2.32597923]\n",
      " [ 0.6575612  -0.22389518]\n",
      " [ 1.3707365   2.2348831 ]\n",
      " [ 0.07099548 -0.29685467]\n",
      " [ 0.6074983   1.47089233]\n",
      " [-0.34226126 -1.10666237]\n",
      " [ 0.69226246  1.21504303]\n",
      " [-0.31112937 -0.75912097]\n",
      " [-0.26888327 -1.89366817]\n",
      " [ 0.42044896  1.85189522]\n",
      " [ 0.21115245  2.00781492]\n",
      " [-1.83106042 -2.91352836]\n",
      " [ 0.7841796   1.97640753]\n",
      " [ 0.10259314  1.24690575]\n",
      " [-1.91100558 -3.66800923]\n",
      " [ 0.13143756 -0.07833855]\n",
      " [-0.1317045  -1.64159158]\n",
      " [-0.14547282 -1.34125678]\n",
      " [-0.51172373 -1.40960773]\n",
      " [ 0.69758045  0.72563649]\n",
      " [ 0.11677083  0.88385162]\n",
      " [-1.16586444 -2.24482237]\n",
      " [-2.23176235 -2.63958101]\n",
      " [ 0.37857234  0.69112594]\n",
      " [ 0.87475323  3.400675  ]\n",
      " [-0.86864365 -3.03568353]\n",
      " [-1.03637857 -1.18469125]\n",
      " [-0.53334959 -0.37039911]\n",
      " [ 0.30414557 -0.5828419 ]\n",
      " [-1.47656656 -2.13046298]\n",
      " [-0.31332021 -1.7895623 ]\n",
      " [ 1.12659538  1.49627535]\n",
      " [-1.19675798 -1.51633442]\n",
      " [-0.75210154 -0.79770535]\n",
      " [ 0.74577693  1.95834451]\n",
      " [ 1.56094354  2.9330816 ]\n",
      " [-0.72009966 -1.99780959]\n",
      " [-1.32319163 -2.61218347]\n",
      " [-2.56215914 -6.08410838]\n",
      " [ 1.31256297  3.13143269]\n",
      " [ 0.51575983  2.30284639]\n",
      " [ 0.01374713 -0.11539344]\n",
      " [-0.16863279  0.39422355]\n",
      " [ 0.12065651  1.13236323]\n",
      " [-0.83504984 -2.38632016]\n",
      " [ 1.05185885  1.98418223]\n",
      " [-0.69144553 -1.56919875]\n",
      " [-1.2567603  -1.125898  ]\n",
      " [ 0.09619333 -0.64335574]\n",
      " [-0.99658689 -2.35038099]\n",
      " [-1.21405259 -1.77693724]]\n"
     ]
    }
   ],
   "source": [
    "print(x)"
   ]
  },
  {
   "cell_type": "code",
   "execution_count": 23,
   "id": "470ebdba",
   "metadata": {},
   "outputs": [
    {
     "data": {
      "text/plain": [
       "<matplotlib.collections.PathCollection at 0x7f507340ffd0>"
      ]
     },
     "execution_count": 23,
     "metadata": {},
     "output_type": "execute_result"
    },
    {
     "data": {
      "image/png": "[encoded data removed]",
      "text/plain": [
       "<Figure size 432x288 with 1 Axes>"
      ]
     },
     "metadata": {},
     "output_type": "display_data"
    }
   ],
   "source": [
    "%matplotlib inline\n",
    "import matplotlib.pyplot as plt\n",
    "import seaborn; seaborn.set()\n",
    "plt.scatter(x[:,0],x[:,1])"
   ]
  },
  {
   "cell_type": "markdown",
   "id": "c3c85a00",
   "metadata": {},
   "source": [
    "Let’s use fancy indexing to select 20 random points. We’ll do this by first choosing 20\n",
    "random indices with no repeats, and use these indices to select a portion of the origi‐\n",
    "nal array"
   ]
  },
  {
   "cell_type": "code",
   "execution_count": 24,
   "id": "3a2b2431",
   "metadata": {},
   "outputs": [
    {
     "data": {
      "text/plain": [
       "array([80, 87, 70, 77, 18, 56, 41, 42, 84,  9, 85, 61,  6, 71, 24, 69,  8,\n",
       "       22, 23, 54])"
      ]
     },
     "execution_count": 24,
     "metadata": {},
     "output_type": "execute_result"
    }
   ],
   "source": [
    "indices=np.random.choice(x.shape[0],20,replace=False)\n",
    "indices\n"
   ]
  },
  {
   "cell_type": "code",
   "execution_count": 25,
   "id": "2dfdc667",
   "metadata": {},
   "outputs": [],
   "source": [
    "selection = x[indices]"
   ]
  },
  {
   "cell_type": "code",
   "execution_count": 26,
   "id": "679b47d5",
   "metadata": {
    "scrolled": true
   },
   "outputs": [
    {
     "data": {
      "text/plain": [
       "array([[ 1.12659538,  1.49627535],\n",
       "       [-2.56215914, -6.08410838],\n",
       "       [-1.16586444, -2.24482237],\n",
       "       [ 0.30414557, -0.5828419 ],\n",
       "       [ 1.53817376,  1.99973464],\n",
       "       [-0.31112937, -0.75912097],\n",
       "       [-1.33461668, -3.03203218],\n",
       "       [ 0.02815138,  0.79654924],\n",
       "       [ 1.56094354,  2.9330816 ],\n",
       "       [ 0.0843329 , -0.3543059 ],\n",
       "       [-0.72009966, -1.99780959],\n",
       "       [ 0.7841796 ,  1.97640753],\n",
       "       [ 1.46860232,  1.22961093],\n",
       "       [-2.23176235, -2.63958101],\n",
       "       [ 0.4299908 ,  0.36324254],\n",
       "       [ 0.11677083,  0.88385162],\n",
       "       [-2.51552505, -5.64629995],\n",
       "       [-0.87753796, -1.15767204],\n",
       "       [-1.11518048, -1.87508012],\n",
       "       [-0.34226126, -1.10666237]])"
      ]
     },
     "execution_count": 26,
     "metadata": {},
     "output_type": "execute_result"
    }
   ],
   "source": [
    "selection"
   ]
  },
  {
   "cell_type": "code",
   "execution_count": 29,
   "id": "10af183f",
   "metadata": {},
   "outputs": [
    {
     "data": {
      "image/png": "[encoded data removed]",
      "text/plain": [
       "<Figure size 432x288 with 1 Axes>"
      ]
     },
     "metadata": {},
     "output_type": "display_data"
    }
   ],
   "source": [
    "plt.scatter(x[:,0],x[:,1], alpha=0.3)\n",
    "plt.scatter(selection[:,0],selection[:,1],facecolor='none',s=200);"
   ]
  },
  {
   "cell_type": "markdown",
   "id": "57717471",
   "metadata": {},
   "source": [
    "__This sort of strategy is often used to quickly partition datasets, as is often needed in\n",
    "train/test splitting for validation of statistical models__"
   ]
  },
  {
   "cell_type": "markdown",
   "id": "978e8451",
   "metadata": {},
   "source": [
    "## Modifying Values with Fancy Indexing\n",
    "Just as fancy indexing can be used to access parts of an array, it can also be used to\n",
    "modify parts of an array. For example, imagine we have an array of indices and we’d\n",
    "like to set the corresponding items in an array to some value:"
   ]
  },
  {
   "cell_type": "code",
   "execution_count": 32,
   "id": "91683513",
   "metadata": {},
   "outputs": [
    {
     "data": {
      "text/plain": [
       "array([ 0, -9, -9,  3, -9,  5,  6,  7, -9,  9])"
      ]
     },
     "execution_count": 32,
     "metadata": {},
     "output_type": "execute_result"
    }
   ],
   "source": [
    "x=np.arange(10)\n",
    "i=np.array([2,1,8,4])\n",
    "x[i]=-9\n",
    "x"
   ]
  },
  {
   "cell_type": "markdown",
   "id": "e7752017",
   "metadata": {},
   "source": [
    "***We can use any assignment-type operator for this***\n",
    "Notice, though, that repeated indices with these operations can cause some poten‐\n",
    "tially unexpected results"
   ]
  },
  {
   "cell_type": "code",
   "execution_count": 33,
   "id": "74a748ab",
   "metadata": {},
   "outputs": [],
   "source": [
    "x[i]-=10"
   ]
  },
  {
   "cell_type": "code",
   "execution_count": 34,
   "id": "6930eb89",
   "metadata": {},
   "outputs": [
    {
     "data": {
      "text/plain": [
       "array([  0, -19, -19,   3, -19,   5,   6,   7, -19,   9])"
      ]
     },
     "execution_count": 34,
     "metadata": {},
     "output_type": "execute_result"
    }
   ],
   "source": [
    "x"
   ]
  },
  {
   "cell_type": "code",
   "execution_count": 35,
   "id": "8d80a9ef",
   "metadata": {},
   "outputs": [],
   "source": [
    "x=np.zeros(10)"
   ]
  },
  {
   "cell_type": "code",
   "execution_count": 36,
   "id": "d1f243d8",
   "metadata": {},
   "outputs": [],
   "source": [
    "x[[0,0]]=[4,6]"
   ]
  },
  {
   "cell_type": "code",
   "execution_count": 38,
   "id": "08f4d3b5",
   "metadata": {},
   "outputs": [
    {
     "data": {
      "text/plain": [
       "array([6., 0., 0., 0., 0., 0., 0., 0., 0., 0.])"
      ]
     },
     "execution_count": 38,
     "metadata": {},
     "output_type": "execute_result"
    }
   ],
   "source": [
    "x"
   ]
  },
  {
   "cell_type": "markdown",
   "id": "0136c532",
   "metadata": {},
   "source": [
    "Where did the 4 go? The result of this operation is to first assign `x[0] = 4`, followed by `x[0] = 6`. The result, of course, is that `x[0]` contains the value 6."
   ]
  },
  {
   "cell_type": "code",
   "execution_count": 39,
   "id": "b8d0935b",
   "metadata": {},
   "outputs": [],
   "source": [
    "i=[2,3,3,4,4,4]\n",
    "x[i]+=1"
   ]
  },
  {
   "cell_type": "code",
   "execution_count": 40,
   "id": "8f01297b",
   "metadata": {},
   "outputs": [
    {
     "data": {
      "text/plain": [
       "array([6., 0., 1., 1., 1., 0., 0., 0., 0., 0.])"
      ]
     },
     "execution_count": 40,
     "metadata": {},
     "output_type": "execute_result"
    }
   ],
   "source": [
    "x"
   ]
  },
  {
   "cell_type": "markdown",
   "id": "a933a9bb",
   "metadata": {},
   "source": [
    "You might expect that x[3] would contain the value 2, and x[4] would contain the\n",
    "value 3, as this is how many times each index is repeated. Why is this not the case?\n",
    "Conceptually, this is because x[i] += 1 is meant as a shorthand of x[i] = x[i] + 1.\n",
    "x[i] + 1 is evaluated, and then the result is assigned to the indices in x. With this in\n",
    "mind, it is not the augmentation that happens multiple times, but the assignment,\n",
    "which leads to the rather nonintuitive results."
   ]
  },
  {
   "cell_type": "markdown",
   "id": "4dabbad0",
   "metadata": {},
   "source": [
    "___So what if you want the other behavior where the operation is repeated? For this, you\n",
    "can use the at() method of ufuncs (available since NumPy 1.8), and do the following___"
   ]
  },
  {
   "cell_type": "code",
   "execution_count": 41,
   "id": "797c98f4",
   "metadata": {},
   "outputs": [
    {
     "data": {
      "text/plain": [
       "array([0., 0., 1., 2., 3., 0., 0., 0., 0., 0.])"
      ]
     },
     "execution_count": 41,
     "metadata": {},
     "output_type": "execute_result"
    }
   ],
   "source": [
    "x=np.zeros(10)\n",
    "np.add.at(x,i,1)\n",
    "x"
   ]
  },
  {
   "cell_type": "markdown",
   "id": "3c4ef2ee",
   "metadata": {},
   "source": [
    "The at() method does an in-place application of the given operator at the specified\n",
    "indices (here, i) with the specified value (here, 1). Another method that is similar in\n",
    "spirit is the reduceat() method of ufuncs, which you can read about in the NumPy\n",
    "documentation."
   ]
  },
  {
   "cell_type": "markdown",
   "id": "a1d72611",
   "metadata": {},
   "source": [
    "## Exmple Binning Data"
   ]
  },
  {
   "cell_type": "code",
   "execution_count": 43,
   "id": "e32be1d9",
   "metadata": {},
   "outputs": [],
   "source": [
    "np.random.seed(42)\n",
    "x=np.random.randn(100)\n"
   ]
  },
  {
   "cell_type": "code",
   "execution_count": 44,
   "id": "677b5692",
   "metadata": {},
   "outputs": [],
   "source": [
    "# compute a histogram by hand\n",
    "bins=np.linspace(-5,5,20)\n",
    "counts=np.zeros_like(bins)"
   ]
  },
  {
   "cell_type": "code",
   "execution_count": 45,
   "id": "2160e4f1",
   "metadata": {},
   "outputs": [],
   "source": [
    "# find the approperiate bin for each x\n",
    "i=np.searchsorted(bins,x)\n"
   ]
  },
  {
   "cell_type": "code",
   "execution_count": 48,
   "id": "889a8a2d",
   "metadata": {},
   "outputs": [],
   "source": [
    "# add 1 to each of these bins\n",
    "np.add.at(counts,i,1)"
   ]
  },
  {
   "cell_type": "code",
   "execution_count": 53,
   "id": "9c2dfddc",
   "metadata": {},
   "outputs": [
    {
     "data": {
      "text/plain": [
       "[<matplotlib.lines.Line2D at 0x7f506f6c8a90>]"
      ]
     },
     "execution_count": 53,
     "metadata": {},
     "output_type": "execute_result"
    },
    {
     "data": {
      "image/png": "[encoded data removed]",
      "text/plain": [
       "<Figure size 432x288 with 1 Axes>"
      ]
     },
     "metadata": {},
     "output_type": "display_data"
    }
   ],
   "source": [
    "# plot the results\n",
    "plt.plot(bins, counts)  #linestyle='steps'"
   ]
  },
  {
   "cell_type": "markdown",
   "id": "98283adc",
   "metadata": {},
   "source": [
    "Of course, it would be silly to have to do this each time you want to plot a histogram.\n",
    "This is why Matplotlib provides the plt.hist() routine, which does the same in a\n",
    "single line:"
   ]
  },
  {
   "cell_type": "code",
   "execution_count": 55,
   "id": "4aeabbcd",
   "metadata": {},
   "outputs": [
    {
     "data": {
      "image/png": "[encoded data removed]",
      "text/plain": [
       "<Figure size 432x288 with 1 Axes>"
      ]
     },
     "metadata": {},
     "output_type": "display_data"
    }
   ],
   "source": [
    "plt.hist(x,bins,histtype='step');"
   ]
  },
  {
   "cell_type": "code",
   "execution_count": 56,
   "id": "718d2f30",
   "metadata": {},
   "outputs": [
    {
     "name": "stdout",
     "output_type": "stream",
     "text": [
      "NumPy routine\n",
      "29.1 µs ± 4.23 µs per loop (mean ± std. dev. of 7 runs, 10,000 loops each)\n"
     ]
    }
   ],
   "source": [
    "print(\"NumPy routine\")\n",
    "%timeit counts, edges =np.histogram(x,bins)"
   ]
  },
  {
   "cell_type": "code",
   "execution_count": 57,
   "id": "b27ce8c7",
   "metadata": {},
   "outputs": [
    {
     "name": "stdout",
     "output_type": "stream",
     "text": [
      "custom routine\n",
      "13.2 µs ± 1.27 µs per loop (mean ± std. dev. of 7 runs, 100,000 loops each)\n"
     ]
    }
   ],
   "source": [
    "print(\"custom routine\")\n",
    "%timeit np.add.at(counts, np.searchsorted(bins,x),1)"
   ]
  },
  {
   "cell_type": "markdown",
   "id": "56ad9948",
   "metadata": {},
   "source": [
    "***Our own one-line algorithm is several times faster than the optimized algorithm in\n",
    "NumPy! How can this be? If you dig into the np.histogram source code (you can do\n",
    "this in IPython by typing np.histogram??), you’ll see that it’s quite a bit more\n",
    "involved than the simple search-and-count that we’ve done; this is because NumPy’s\n",
    "algorithm is more flexible, and particularly is designed for better performance when\n",
    "the number of data points becomes large:***"
   ]
  },
  {
   "cell_type": "code",
   "execution_count": null,
   "id": "e2ab5194",
   "metadata": {},
   "outputs": [
    {
     "name": "stdout",
     "output_type": "stream",
     "text": [
      "NumPy routine: \n",
      "67.3 ms ± 5.67 ms per loop (mean ± std. dev. of 7 runs, 10 loops each)\n",
      "Custom routine: \n"
     ]
    }
   ],
   "source": [
    "x=np.random.randn(1000000)\n",
    "print(\"NumPy routine: \")\n",
    "%timeit counts, edges=np.histogram(x,bins)\n",
    "\n",
    "print(\"Custom routine: \")\n",
    "%timeit np.add.at(counts, np.searchsorted(bins,x),1)"
   ]
  },
  {
   "cell_type": "code",
   "execution_count": null,
   "id": "565bc3b8",
   "metadata": {},
   "outputs": [],
   "source": []
  }
 ],
 "metadata": {
  "kernelspec": {
   "display_name": "Python 3 (ipykernel)",
   "language": "python",
   "name": "python3"
  },
  "language_info": {
   "codemirror_mode": {
    "name": "ipython",
    "version": 3
   },
   "file_extension": ".py",
   "mimetype": "text/x-python",
   "name": "python",
   "nbconvert_exporter": "python",
   "pygments_lexer": "ipython3",
   "version": "3.9.12"
  }
 },
 "nbformat": 4,
 "nbformat_minor": 5
}
