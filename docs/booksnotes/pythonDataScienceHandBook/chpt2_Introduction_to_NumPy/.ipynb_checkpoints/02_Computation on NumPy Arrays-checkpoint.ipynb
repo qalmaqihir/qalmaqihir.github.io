{
 "cells": [
  {
   "cell_type": "code",
   "execution_count": null,
   "id": "c86a0dee-2372-4c76-b72c-e40f7906c0c9",
   "metadata": {},
   "outputs": [],
   "source": []
  },
  {
   "cell_type": "raw",
   "id": "dc38c113-dcbb-49f4-8eb1-180390b65b9f",
   "metadata": {},
   "source": [
    "---\n",
    "title: \"Notes [Book] Data Science Handbook\"\n",
    "author: \"by Jawad Haider\"\n",
    "format: gfm\n",
    "toc: true\n",
    "toc-title: Contents\n",
    "toc-location: right\n",
    "link-external-newwindow: true\n",
    "html-math-method: katex\n",
    "anchor-sections: true\n",
    "smooth-scroll: true\n",
    "link-external-icon: true\n",
    "jupyter: python3\n",
    "comments:\n",
    "  hypothesis: \n",
    "    theme: clean\n",
    "reference-location: margin\n",
    "\n",
    "---"
   ]
  },
  {
   "cell_type": "markdown",
   "id": "6308c3a6-9cac-4ac5-be5c-cc756d0af0dc",
   "metadata": {},
   "source": [
    "___\n",
    "\n",
    "<center><a href=''><img src='../../../img/logo1.png'/></a></center>\n",
    "\n",
    "___ \n",
    "\n",
    "\n",
    "<center><em>Copyright Qalmaqihir</em></center>\n",
    "<center><em>For more information, visit us at <a href='http://www.github.com/qalmaqihir/'>www.github.com/qalmaqihir/</a></em></center>"
   ]
  },
  {
   "cell_type": "markdown",
   "id": "0f7162c6",
   "metadata": {},
   "source": [
    "# Computation on NumPy Arrays: Universal Functions\n",
    "Computation on NumPy arrays can be very fast, or it can be very slow. The key to\n",
    "making it fast is to use vectorized operations, generally implemented through Num‐\n",
    "Py’s universal functions (ufuncs)."
   ]
  },
  {
   "cell_type": "markdown",
   "id": "73cae00b",
   "metadata": {},
   "source": [
    "## The Slowness of Loops\n",
    "Python’s default implementation (known as CPython) does some operations very\n",
    "slowly. This is in part due to the dynamic, interpreted nature of the language: the fact\n",
    "that types are flexible, so that sequences of operations cannot be compiled down to\n",
    "efficient machine code as in languages like C and Fortran."
   ]
  },
  {
   "cell_type": "code",
   "execution_count": 5,
   "id": "6d117cfd",
   "metadata": {},
   "outputs": [
    {
     "data": {
      "text/plain": [
       "array([0.16666667, 1.        , 0.25      , 0.25      , 0.125     ])"
      ]
     },
     "execution_count": 5,
     "metadata": {},
     "output_type": "execute_result"
    }
   ],
   "source": [
    "# Example of reciprocal of each item in the list\n",
    "import numpy as np\n",
    "np.random.seed(0)\n",
    "\n",
    "def compute_reciprocals(values):\n",
    "    output=np.empty(len(values))\n",
    "    for i in range(len(values)):\n",
    "        output[i] = 1.0 / values[i]\n",
    "    return output\n",
    "\n",
    "values = np.random.randint(1,10,size=5)\n",
    "compute_reciprocals(values)"
   ]
  },
  {
   "cell_type": "code",
   "execution_count": 2,
   "id": "2c4aa530",
   "metadata": {},
   "outputs": [
    {
     "name": "stdout",
     "output_type": "stream",
     "text": [
      "167 ms ± 5.95 ms per loop (mean ± std. dev. of 7 runs, 10 loops each)\n"
     ]
    }
   ],
   "source": [
    "big_array=np.random.randint(1,100,size=100000)\n",
    "%timeit compute_reciprocals(big_array)"
   ]
  },
  {
   "cell_type": "markdown",
   "id": "ee0a564a",
   "metadata": {},
   "source": [
    "## Introducing UFuncs\n",
    "For many types of operations, NumPy provides a convenient interface into just this\n",
    "kind of statically typed, compiled routine. This is known as a vectorized operation.\n",
    "You can accomplish this by simply performing an operation on the array, which will\n",
    "then be applied to each element. This vectorized approach is designed to push the\n",
    "loop into the compiled layer that underlies NumPy, leading to much faster execution.\n"
   ]
  },
  {
   "cell_type": "code",
   "execution_count": 4,
   "id": "1b3bd649",
   "metadata": {},
   "outputs": [
    {
     "name": "stdout",
     "output_type": "stream",
     "text": [
      "[0.16666667 1.         0.25       0.25       0.125     ]\n",
      "[0.16666667 1.         0.25       0.25       0.125     ]\n"
     ]
    }
   ],
   "source": [
    "print(compute_reciprocals(values))\n",
    "print(1.0/values)"
   ]
  },
  {
   "cell_type": "code",
   "execution_count": 5,
   "id": "4cefc531",
   "metadata": {},
   "outputs": [
    {
     "name": "stdout",
     "output_type": "stream",
     "text": [
      "129 µs ± 12 µs per loop (mean ± std. dev. of 7 runs, 10,000 loops each)\n"
     ]
    }
   ],
   "source": [
    "%timeit (1/big_array)"
   ]
  },
  {
   "cell_type": "markdown",
   "id": "e22b63db",
   "metadata": {},
   "source": [
    "***Vectorized operations in NumPy are implemented via ufuncs, whose main purpose is\n",
    "to quickly execute repeated operations on values in NumPy arrays. Ufuncs are\n",
    "extremely flexible—before we saw an operation between a scalar and an array, but we\n",
    "can also operate between two arrays:***"
   ]
  },
  {
   "cell_type": "code",
   "execution_count": 6,
   "id": "806f94f6",
   "metadata": {},
   "outputs": [
    {
     "data": {
      "text/plain": [
       "array([0.        , 0.5       , 0.66666667, 0.75      , 0.8       ])"
      ]
     },
     "execution_count": 6,
     "metadata": {},
     "output_type": "execute_result"
    }
   ],
   "source": [
    "np.arange(5)/np.arange(1,6)"
   ]
  },
  {
   "cell_type": "code",
   "execution_count": 9,
   "id": "1cd92383",
   "metadata": {},
   "outputs": [
    {
     "data": {
      "text/plain": [
       "array([[ 0,  2,  4],\n",
       "       [ 6,  8, 10],\n",
       "       [12, 14, 16]])"
      ]
     },
     "execution_count": 9,
     "metadata": {},
     "output_type": "execute_result"
    }
   ],
   "source": [
    "# Works for multi-d arraays\n",
    "x=np.arange(9).reshape((3,3))\n",
    "2*x"
   ]
  },
  {
   "cell_type": "markdown",
   "id": "465fec79",
   "metadata": {},
   "source": [
    "## Exploring NumPy’s UFuncs\n",
    "\n",
    "\n",
    "### Array arithmetic"
   ]
  },
  {
   "cell_type": "code",
   "execution_count": 11,
   "id": "da774aa9",
   "metadata": {},
   "outputs": [
    {
     "name": "stdout",
     "output_type": "stream",
     "text": [
      "x =  [[0 1 2]\n",
      " [3 4 5]\n",
      " [6 7 8]]\n"
     ]
    }
   ],
   "source": [
    "print('x = ', x)"
   ]
  },
  {
   "cell_type": "code",
   "execution_count": 20,
   "id": "85d13266",
   "metadata": {},
   "outputs": [
    {
     "name": "stdout",
     "output_type": "stream",
     "text": [
      "x-3 \n",
      " [[-3 -2 -1]\n",
      " [ 0  1  2]\n",
      " [ 3  4  5]]\n",
      "x+13 \n",
      " [[13 14 15]\n",
      " [16 17 18]\n",
      " [19 20 21]]\n",
      "x*9 \n",
      " [[ 0  9 18]\n",
      " [27 36 45]\n",
      " [54 63 72]]\n",
      "x/6 \n",
      " [[-6 -5 -4]\n",
      " [-3 -2 -1]\n",
      " [ 0  1  2]]\n",
      "x//6 \n",
      " [[-6 -5 -4]\n",
      " [-3 -2 -1]\n",
      " [ 0  1  2]]\n",
      "x**4 \n",
      " [[   0    1   16]\n",
      " [  81  256  625]\n",
      " [1296 2401 4096]]\n",
      "x%4 \n",
      " [[0 1 2]\n",
      " [3 0 1]\n",
      " [2 3 0]]\n"
     ]
    }
   ],
   "source": [
    "print('x-3 \\n' ,np.subtract(x,3))\n",
    "print('x+13 \\n' ,np.add(x,13))\n",
    "print('x*9 \\n' ,np.multiply(x,9))\n",
    "print('x/6 \\n' ,np.subtract(x,6))\n",
    "print('x//6 \\n' ,np.subtract(x,6))\n",
    "print('x**4 \\n' ,np.power(x,4))\n",
    "print('x%4 \\n' ,np.mod(x,4))"
   ]
  },
  {
   "cell_type": "code",
   "execution_count": 22,
   "id": "91e73442",
   "metadata": {},
   "outputs": [
    {
     "data": {
      "text/plain": [
       "array([2, 3, 4, 9, 0])"
      ]
     },
     "execution_count": 22,
     "metadata": {},
     "output_type": "execute_result"
    }
   ],
   "source": [
    "# Absolute value\n",
    "x=np.array([-2,3,-4,-9,0])\n",
    "abs(x)"
   ]
  },
  {
   "cell_type": "code",
   "execution_count": 23,
   "id": "f4804e17",
   "metadata": {},
   "outputs": [
    {
     "data": {
      "text/plain": [
       "array([2, 3, 4, 9, 0])"
      ]
     },
     "execution_count": 23,
     "metadata": {},
     "output_type": "execute_result"
    }
   ],
   "source": [
    "np.absolute(x)"
   ]
  },
  {
   "cell_type": "code",
   "execution_count": 25,
   "id": "51341c9c",
   "metadata": {},
   "outputs": [
    {
     "name": "stdout",
     "output_type": "stream",
     "text": [
      "Theta       = [0.         1.57079633 3.14159265]\n",
      "Sin(theta)  = [0.0000000e+00 1.0000000e+00 1.2246468e-16]\n",
      "Cos(theta)  = [ 1.000000e+00  6.123234e-17 -1.000000e+00]\n",
      "Inverse tri\n",
      "\n",
      "Theta       = [0.         1.57079633 3.14159265]\n",
      "arcSin(theta)  = [ 0. nan nan]\n",
      "arcCos(theta)  = [1.57079633        nan        nan]\n"
     ]
    },
    {
     "name": "stderr",
     "output_type": "stream",
     "text": [
      "/tmp/ipykernel_22625/2951825817.py:9: RuntimeWarning: invalid value encountered in arcsin\n",
      "  print(\"arcSin(theta)  =\",np.arcsin(thet))\n",
      "/tmp/ipykernel_22625/2951825817.py:10: RuntimeWarning: invalid value encountered in arccos\n",
      "  print(\"arcCos(theta)  =\",np.arccos(thet))\n"
     ]
    }
   ],
   "source": [
    "# Trig\n",
    "thet=np.linspace(0,np.pi,3)\n",
    "print(\"Theta       =\",thet)\n",
    "print(\"Sin(theta)  =\",np.sin(thet))\n",
    "print(\"Cos(theta)  =\",np.cos(thet))\n",
    "\n",
    "print(\"\\nInverse tri\\n\")\n",
    "print(\"Theta       =\",thet)\n",
    "print(\"arcSin(theta)  =\",np.arcsin(thet))\n",
    "print(\"arcCos(theta)  =\",np.arccos(thet))"
   ]
  },
  {
   "cell_type": "code",
   "execution_count": 27,
   "id": "b3d0cfa7",
   "metadata": {},
   "outputs": [
    {
     "name": "stdout",
     "output_type": "stream",
     "text": [
      "x= [1, 2, 3]\n",
      "e^x= [ 2.71828183  7.3890561  20.08553692]\n",
      "2^x= [2. 4. 8.]\n",
      "3^x= [ 3  9 27]\n"
     ]
    }
   ],
   "source": [
    "# Logarthm and Exponents\n",
    "x = [1, 2, 3]\n",
    "print(\"x=\", x)\n",
    "print(\"e^x=\", np.exp(x))\n",
    "print(\"2^x=\", np.exp2(x))\n",
    "print(\"3^x=\", np.power(3, x))"
   ]
  },
  {
   "cell_type": "markdown",
   "id": "95558bf1",
   "metadata": {},
   "source": [
    "## Specialized ufuncs\n",
    "\n",
    "NumPy has many more ufuncs available, including hyperbolic trig functions, bitwise\n",
    "arithmetic, comparison operators, conversions from radians to degrees, rounding and\n",
    "remainders, and much more. A look through the NumPy documentation reveals a lot\n",
    "of interesting functionality."
   ]
  },
  {
   "cell_type": "markdown",
   "id": "183d2b31",
   "metadata": {},
   "source": [
    "Another excellent source for more specialized and obscure ufuncs is the submodule\n",
    "scipy.special. If you want to compute some obscure mathematical function on\n",
    "your data, chances are it is implemented in scipy.special. There are far too many\n",
    "functions to list them all, but the following snippet shows a couple that might come\n",
    "up in a statistics context"
   ]
  },
  {
   "cell_type": "code",
   "execution_count": 3,
   "id": "d64e13ae",
   "metadata": {},
   "outputs": [
    {
     "name": "stdout",
     "output_type": "stream",
     "text": [
      "gamma(x)= [1.0000e+00 2.4000e+01 3.6288e+05]\n",
      "ln|gamma(x)| = [ 0.          3.17805383 12.80182748]\n",
      "beta(x, 2)= [0.5        0.03333333 0.00909091]\n"
     ]
    }
   ],
   "source": [
    "from scipy import special\n",
    "#Gamma functions (generalized factorials) and related functions\n",
    "x = [1, 5, 10]\n",
    "print(\"gamma(x)=\", special.gamma(x))\n",
    "print(\"ln|gamma(x)| =\", special.gammaln(x))\n",
    "print(\"beta(x, 2)=\", special.beta(x, 2))"
   ]
  },
  {
   "cell_type": "code",
   "execution_count": 6,
   "id": "9df8df1c",
   "metadata": {},
   "outputs": [
    {
     "name": "stdout",
     "output_type": "stream",
     "text": [
      "erf(x) = [0.         0.32862676 0.67780119 0.84270079]\n",
      "erfc(x) = [1.         0.67137324 0.32219881 0.15729921]\n",
      "erfinv(x) = [0.         0.27246271 0.73286908        inf]\n"
     ]
    }
   ],
   "source": [
    "# Error function (integral of Gaussian)\n",
    "# its complement, and its inverse\n",
    "x = np.array([0, 0.3, 0.7, 1.0])\n",
    "print(\"erf(x) =\", special.erf(x))\n",
    "print(\"erfc(x) =\", special.erfc(x))\n",
    "print(\"erfinv(x) =\", special.erfinv(x))"
   ]
  },
  {
   "cell_type": "markdown",
   "id": "6d698357",
   "metadata": {},
   "source": [
    "\n",
    "## Advanced Ufunc Features\n",
    "### Specifying output\n",
    "For large calculations, it is sometimes useful to be able to specify the array where the\n",
    "result of the calculation will be stored. Rather than creating a temporary array, you\n",
    "can use this to write computation results directly to the memory location where you’d like them to be."
   ]
  },
  {
   "cell_type": "code",
   "execution_count": 7,
   "id": "847c031e",
   "metadata": {},
   "outputs": [
    {
     "name": "stdout",
     "output_type": "stream",
     "text": [
      "[ 0. 10. 20. 30. 40.]\n"
     ]
    }
   ],
   "source": [
    "# THis can be done using the out argument of the function\n",
    "x = np.arange(5)\n",
    "y = np.empty(5)\n",
    "np.multiply(x, 10, out=y)\n",
    "print(y)"
   ]
  },
  {
   "cell_type": "code",
   "execution_count": 8,
   "id": "41b16bc7",
   "metadata": {},
   "outputs": [
    {
     "name": "stdout",
     "output_type": "stream",
     "text": [
      "[ 1.  0.  2.  0.  4.  0.  8.  0. 16.  0.]\n"
     ]
    }
   ],
   "source": [
    "# This can be done with array views\n",
    "y = np.zeros(10)\n",
    "np.power(2, x, out=y[::2])\n",
    "print(y)"
   ]
  },
  {
   "cell_type": "code",
   "execution_count": 13,
   "id": "06c0b172",
   "metadata": {},
   "outputs": [
    {
     "data": {
      "text/plain": [
       "array([ 1,  2,  4,  8, 16])"
      ]
     },
     "execution_count": 13,
     "metadata": {},
     "output_type": "execute_result"
    }
   ],
   "source": [
    "np.power(2,x,out=2**x)"
   ]
  },
  {
   "cell_type": "markdown",
   "id": "e8f0744d",
   "metadata": {},
   "source": [
    "### Aggregates\n",
    "For binary ufuncs, there are some interesting aggregates that can be computed\n",
    "directly from the object. For example, if we’d like to reduce an array with a particular\n",
    "operation, we can use the reduce method of any ufunc. A reduce repeatedly applies a\n",
    "given operation to the elements of an array until only a single result remains."
   ]
  },
  {
   "cell_type": "code",
   "execution_count": 14,
   "id": "cbe7a3fd",
   "metadata": {},
   "outputs": [
    {
     "data": {
      "text/plain": [
       "15"
      ]
     },
     "execution_count": 14,
     "metadata": {},
     "output_type": "execute_result"
    }
   ],
   "source": [
    "# Calling reduce on the add ufunc\n",
    "x = np.arange(1, 6)\n",
    "np.add.reduce(x)"
   ]
  },
  {
   "cell_type": "code",
   "execution_count": 18,
   "id": "8cd4be5d",
   "metadata": {},
   "outputs": [
    {
     "data": {
      "text/plain": [
       "15"
      ]
     },
     "execution_count": 18,
     "metadata": {},
     "output_type": "execute_result"
    }
   ],
   "source": [
    "x=np.arange(1,6)\n",
    "np.sum(x)"
   ]
  },
  {
   "cell_type": "code",
   "execution_count": 20,
   "id": "10c63297",
   "metadata": {},
   "outputs": [
    {
     "ename": "TypeError",
     "evalue": "multiply() takes from 2 to 3 positional arguments but 1 were given",
     "output_type": "error",
     "traceback": [
      "\u001b[0;31m---------------------------------------------------------------------------\u001b[0m",
      "\u001b[0;31mTypeError\u001b[0m                                 Traceback (most recent call last)",
      "Input \u001b[0;32mIn [20]\u001b[0m, in \u001b[0;36m<cell line: 1>\u001b[0;34m()\u001b[0m\n\u001b[0;32m----> 1\u001b[0m \u001b[43mnp\u001b[49m\u001b[38;5;241;43m.\u001b[39;49m\u001b[43mmultiply\u001b[49m\u001b[43m(\u001b[49m\u001b[43mx\u001b[49m\u001b[43m)\u001b[49m\n",
      "\u001b[0;31mTypeError\u001b[0m: multiply() takes from 2 to 3 positional arguments but 1 were given"
     ]
    }
   ],
   "source": [
    "np.multiply(x)"
   ]
  },
  {
   "cell_type": "code",
   "execution_count": 21,
   "id": "62689e1f",
   "metadata": {},
   "outputs": [
    {
     "ename": "TypeError",
     "evalue": "add() takes from 2 to 3 positional arguments but 1 were given",
     "output_type": "error",
     "traceback": [
      "\u001b[0;31m---------------------------------------------------------------------------\u001b[0m",
      "\u001b[0;31mTypeError\u001b[0m                                 Traceback (most recent call last)",
      "Input \u001b[0;32mIn [21]\u001b[0m, in \u001b[0;36m<cell line: 1>\u001b[0;34m()\u001b[0m\n\u001b[0;32m----> 1\u001b[0m \u001b[43mnp\u001b[49m\u001b[38;5;241;43m.\u001b[39;49m\u001b[43madd\u001b[49m\u001b[43m(\u001b[49m\u001b[43mx\u001b[49m\u001b[43m)\u001b[49m\n",
      "\u001b[0;31mTypeError\u001b[0m: add() takes from 2 to 3 positional arguments but 1 were given"
     ]
    }
   ],
   "source": [
    "np.add(x)"
   ]
  },
  {
   "cell_type": "code",
   "execution_count": 22,
   "id": "5159da08",
   "metadata": {},
   "outputs": [
    {
     "data": {
      "text/plain": [
       "120"
      ]
     },
     "execution_count": 22,
     "metadata": {},
     "output_type": "execute_result"
    }
   ],
   "source": [
    "np.multiply.reduce(x)"
   ]
  },
  {
   "cell_type": "code",
   "execution_count": 23,
   "id": "ea093d50",
   "metadata": {},
   "outputs": [
    {
     "data": {
      "text/plain": [
       "array([ 1,  3,  6, 10, 15])"
      ]
     },
     "execution_count": 23,
     "metadata": {},
     "output_type": "execute_result"
    }
   ],
   "source": [
    "# To store all the imtermmediate results of the computation we can use accumulate\n",
    "np.add.accumulate(x)\n"
   ]
  },
  {
   "cell_type": "code",
   "execution_count": 24,
   "id": "543452a4",
   "metadata": {},
   "outputs": [
    {
     "data": {
      "text/plain": [
       "array([1, 2, 3, 4, 5])"
      ]
     },
     "execution_count": 24,
     "metadata": {},
     "output_type": "execute_result"
    }
   ],
   "source": [
    "x"
   ]
  },
  {
   "cell_type": "markdown",
   "id": "73b4c583",
   "metadata": {},
   "source": [
    "***Note that for these particular cases, there are dedicated NumPy functions to compute\n",
    "the results (np.sum, np.prod, np.cumsum, np.cumprod),\n",
    "The ufunc.at and ufunc.reduceat methods***"
   ]
  },
  {
   "cell_type": "markdown",
   "id": "a594dede",
   "metadata": {},
   "source": [
    "### Outer products\n",
    "Finally, any ufunc can compute the output of all pairs of two different inputs using\n",
    "the outer method."
   ]
  },
  {
   "cell_type": "code",
   "execution_count": 27,
   "id": "26af3ef4",
   "metadata": {},
   "outputs": [
    {
     "data": {
      "text/plain": [
       "array([[ 1,  2,  3,  4,  5],\n",
       "       [ 2,  4,  6,  8, 10],\n",
       "       [ 3,  6,  9, 12, 15],\n",
       "       [ 4,  8, 12, 16, 20],\n",
       "       [ 5, 10, 15, 20, 25]])"
      ]
     },
     "execution_count": 27,
     "metadata": {},
     "output_type": "execute_result"
    }
   ],
   "source": [
    "np.multiply.outer(x,x)"
   ]
  },
  {
   "cell_type": "markdown",
   "id": "e7bddcf1",
   "metadata": {},
   "source": [
    "***Another extremely useful feature of ufuncs is the ability to operate between arrays of\n",
    "different sizes and shapes, a set of operations known as broadcasting.***"
   ]
  }
 ],
 "metadata": {
  "kernelspec": {
   "display_name": "Python 3 (ipykernel)",
   "language": "python",
   "name": "python3"
  },
  "language_info": {
   "codemirror_mode": {
    "name": "ipython",
    "version": 3
   },
   "file_extension": ".py",
   "mimetype": "text/x-python",
   "name": "python",
   "nbconvert_exporter": "python",
   "pygments_lexer": "ipython3",
   "version": "3.9.12"
  }
 },
 "nbformat": 4,
 "nbformat_minor": 5
}
