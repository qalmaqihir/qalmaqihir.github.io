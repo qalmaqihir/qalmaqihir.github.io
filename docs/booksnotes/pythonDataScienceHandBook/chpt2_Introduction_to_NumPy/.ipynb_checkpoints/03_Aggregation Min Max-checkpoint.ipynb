{
 "cells": [
  {
   "cell_type": "code",
   "execution_count": null,
   "id": "aaa2166f-26bc-4d5e-a970-b12f1b6cffb6",
   "metadata": {},
   "outputs": [],
   "source": []
  },
  {
   "cell_type": "raw",
   "id": "ea6ac091-d634-469d-b4a1-03b8ea6dd1f4",
   "metadata": {},
   "source": [
    "---\n",
    "title: \"Notes [Book] Data Science Handbook\"\n",
    "author: \"by Jawad Haider\"\n",
    "format: gfm\n",
    "toc: true\n",
    "toc-title: Contents\n",
    "toc-location: right\n",
    "link-external-newwindow: true\n",
    "html-math-method: katex\n",
    "anchor-sections: true\n",
    "smooth-scroll: true\n",
    "link-external-icon: true\n",
    "jupyter: python3\n",
    "comments:\n",
    "  hypothesis: \n",
    "    theme: clean\n",
    "reference-location: margin\n",
    "\n",
    "---"
   ]
  },
  {
   "cell_type": "markdown",
   "id": "63eb3e96-70ca-4be7-ab4e-4f9cb5392b96",
   "metadata": {},
   "source": [
    "___\n",
    "\n",
    "<center><a href=''><img src='../../../img/logo1.png'/></a></center>\n",
    "\n",
    "___ \n",
    "\n",
    "\n",
    "<center><em>Copyright Qalmaqihir</em></center>\n",
    "<center><em>For more information, visit us at <a href='http://www.github.com/qalmaqihir/'>www.github.com/qalmaqihir/</a></em></center>"
   ]
  },
  {
   "cell_type": "markdown",
   "id": "9ac8f466",
   "metadata": {},
   "source": [
    "## Aggregations: Min, Max, and Everything in Between\n",
    "Often when you are faced with a large amount of data, a first step is to compute sum‐\n",
    "mary statistics for the data in question. Perhaps the most common summary statistics\n",
    "are the mean and standard deviation, which allow you to summarize the “typical” val‐\n",
    "ues in a dataset, but other aggregates are useful as well (the sum, product, median,\n",
    "minimum and maximum, quantiles, etc.)."
   ]
  },
  {
   "cell_type": "code",
   "execution_count": 28,
   "id": "b6d69c57",
   "metadata": {},
   "outputs": [
    {
     "data": {
      "text/plain": [
       "47.51294159911191"
      ]
     },
     "execution_count": 28,
     "metadata": {},
     "output_type": "execute_result"
    }
   ],
   "source": [
    "l=np.random.random(100)\n",
    "sum(l)"
   ]
  },
  {
   "cell_type": "code",
   "execution_count": 29,
   "id": "3aac0139",
   "metadata": {},
   "outputs": [
    {
     "data": {
      "text/plain": [
       "47.5129415991119"
      ]
     },
     "execution_count": 29,
     "metadata": {},
     "output_type": "execute_result"
    }
   ],
   "source": [
    "np.sum(l)"
   ]
  },
  {
   "cell_type": "code",
   "execution_count": 31,
   "id": "b7bcc6e6",
   "metadata": {},
   "outputs": [
    {
     "name": "stdout",
     "output_type": "stream",
     "text": [
      "6.73 ms ± 88.1 µs per loop (mean ± std. dev. of 7 runs, 100 loops each)\n",
      "31.5 µs ± 326 ns per loop (mean ± std. dev. of 7 runs, 10,000 loops each)\n"
     ]
    }
   ],
   "source": [
    "big_array=np.random.rand(100000)\n",
    "%timeit sum(big_array)\n",
    "%timeit np.sum(big_array)"
   ]
  },
  {
   "cell_type": "markdown",
   "id": "865cd6f4",
   "metadata": {},
   "source": [
    "***Be careful, though: the sum function and the np.sum function are not identical, which\n",
    "can sometimes lead to confusion! In particular, their optional arguments have differ‐\n",
    "ent meanings, and np.sum is aware of multiple array dimensions***"
   ]
  },
  {
   "cell_type": "code",
   "execution_count": 32,
   "id": "7b889f84",
   "metadata": {},
   "outputs": [
    {
     "data": {
      "text/plain": [
       "(1.4444103570987465e-06, 0.9999881721555508)"
      ]
     },
     "execution_count": 32,
     "metadata": {},
     "output_type": "execute_result"
    }
   ],
   "source": [
    "min(big_array), max(big_array)"
   ]
  },
  {
   "cell_type": "code",
   "execution_count": 33,
   "id": "e5b4f521",
   "metadata": {},
   "outputs": [
    {
     "data": {
      "text/plain": [
       "(1.4444103570987465e-06, 0.9999881721555508)"
      ]
     },
     "execution_count": 33,
     "metadata": {},
     "output_type": "execute_result"
    }
   ],
   "source": [
    "np.min(big_array), np.max(big_array)"
   ]
  },
  {
   "cell_type": "code",
   "execution_count": 34,
   "id": "f4ee7fdd",
   "metadata": {},
   "outputs": [
    {
     "name": "stdout",
     "output_type": "stream",
     "text": [
      "5.44 ms ± 49.4 µs per loop (mean ± std. dev. of 7 runs, 100 loops each)\n",
      "35.5 µs ± 64.6 ns per loop (mean ± std. dev. of 7 runs, 10,000 loops each)\n"
     ]
    }
   ],
   "source": [
    "%timeit min(big_array)\n",
    "%timeit np.min(big_array)"
   ]
  },
  {
   "cell_type": "markdown",
   "id": "ddd7e90c",
   "metadata": {},
   "source": [
    "### Multidimensional aggregates"
   ]
  },
  {
   "cell_type": "code",
   "execution_count": 35,
   "id": "d540de80",
   "metadata": {},
   "outputs": [
    {
     "name": "stdout",
     "output_type": "stream",
     "text": [
      "[[0.15322668 0.10058762 0.85504471 0.19779527]\n",
      " [0.24515716 0.61526756 0.9677193  0.0045308 ]\n",
      " [0.57826711 0.49512073 0.68039294 0.43271134]]\n"
     ]
    }
   ],
   "source": [
    "m=np.random.random((3,4))\n",
    "print(m)"
   ]
  },
  {
   "cell_type": "code",
   "execution_count": 37,
   "id": "68bfd7aa",
   "metadata": {},
   "outputs": [
    {
     "data": {
      "text/plain": [
       "5.325821234912031"
      ]
     },
     "execution_count": 37,
     "metadata": {},
     "output_type": "execute_result"
    }
   ],
   "source": [
    "\n",
    "m.sum()"
   ]
  },
  {
   "cell_type": "code",
   "execution_count": 39,
   "id": "dd9a0594",
   "metadata": {},
   "outputs": [
    {
     "data": {
      "text/plain": [
       "array([0.15322668, 0.10058762, 0.68039294, 0.0045308 ])"
      ]
     },
     "execution_count": 39,
     "metadata": {},
     "output_type": "execute_result"
    }
   ],
   "source": [
    "# Aggregation functions take an additional argument specifying the axis along which the aggregate is computed.\n",
    "m.min(axis=0)"
   ]
  },
  {
   "cell_type": "code",
   "execution_count": 40,
   "id": "083073b7",
   "metadata": {},
   "outputs": [
    {
     "data": {
      "text/plain": [
       "0.9677193034993363"
      ]
     },
     "execution_count": 40,
     "metadata": {},
     "output_type": "execute_result"
    }
   ],
   "source": [
    "np.max(m)"
   ]
  },
  {
   "cell_type": "code",
   "execution_count": 42,
   "id": "e6b469b2",
   "metadata": {},
   "outputs": [
    {
     "data": {
      "text/plain": [
       "array([0.57826711, 0.61526756, 0.9677193 , 0.43271134])"
      ]
     },
     "execution_count": 42,
     "metadata": {},
     "output_type": "execute_result"
    }
   ],
   "source": [
    "m.max(axis=0)"
   ]
  },
  {
   "cell_type": "code",
   "execution_count": 43,
   "id": "8b8a64a8",
   "metadata": {},
   "outputs": [
    {
     "data": {
      "text/plain": [
       "array([0.10058762, 0.0045308 , 0.43271134])"
      ]
     },
     "execution_count": 43,
     "metadata": {},
     "output_type": "execute_result"
    }
   ],
   "source": [
    "m.min(axis=1)"
   ]
  },
  {
   "cell_type": "markdown",
   "id": "af63823d",
   "metadata": {},
   "source": [
    "__The way the axis is specified here can be confusing to users coming from other lan‐\n",
    "guages. The axis keyword specifies the dimension of the array that will be collapsed,\n",
    "rather than the dimension that will be returned. So specifying axis=0 means that the The way the axis is specified here can be confusing to users coming from other lan‐\n",
    "guages. The axis keyword specifies the dimension of the array that will be collapsed,\n",
    "rather than the dimension that will be returned. So specifying axis=0 means that the first axis will be collapsed: for two-dimensional arrays, this means that values within\n",
    "each column will be aggregated.__"
   ]
  },
  {
   "cell_type": "markdown",
   "id": "436db7ff",
   "metadata": {},
   "source": [
    "## Some aggregation functions\n",
    "![](3.png)"
   ]
  },
  {
   "cell_type": "markdown",
   "id": "4875289f",
   "metadata": {},
   "source": [
    "### Example: What Is the Average Height of US Presidents?\n",
    "Aggregates available in NumPy can be extremely useful for summarizing a set of val‐\n",
    "ues. As a simple example, let’s consider the heights of all US presidents."
   ]
  },
  {
   "cell_type": "code",
   "execution_count": 45,
   "id": "ff290fb0",
   "metadata": {},
   "outputs": [
    {
     "name": "stdout",
     "output_type": "stream",
     "text": [
      "order,name,height(cm)\n",
      "1,George Washington,189\n",
      "2,John Adams,170\n",
      "3,Thomas Jefferson,189\n"
     ]
    }
   ],
   "source": [
    "!head -4 ../data/president_heights.csv"
   ]
  },
  {
   "cell_type": "code",
   "execution_count": 47,
   "id": "4725c312",
   "metadata": {},
   "outputs": [
    {
     "name": "stdout",
     "output_type": "stream",
     "text": [
      "[189 170 189 163 183 171 185 168 173 183 173 173 175 178 183 193 178 173\n",
      " 174 183 183 168 170 178 182 180 183 178 182 188 175 179 183 193 182 183\n",
      " 177 185 188 188 182 185]\n"
     ]
    }
   ],
   "source": [
    "import pandas as pd\n",
    "data=pd.read_csv(\"../data/president_heights.csv\")\n",
    "height=np.array(data['height(cm)'])\n",
    "print(height)"
   ]
  },
  {
   "cell_type": "code",
   "execution_count": 48,
   "id": "68214720",
   "metadata": {},
   "outputs": [
    {
     "data": {
      "text/html": [
       "<div>\n",
       "<style scoped>\n",
       "    .dataframe tbody tr th:only-of-type {\n",
       "        vertical-align: middle;\n",
       "    }\n",
       "\n",
       "    .dataframe tbody tr th {\n",
       "        vertical-align: top;\n",
       "    }\n",
       "\n",
       "    .dataframe thead th {\n",
       "        text-align: right;\n",
       "    }\n",
       "</style>\n",
       "<table border=\"1\" class=\"dataframe\">\n",
       "  <thead>\n",
       "    <tr style=\"text-align: right;\">\n",
       "      <th></th>\n",
       "      <th>order</th>\n",
       "      <th>name</th>\n",
       "      <th>height(cm)</th>\n",
       "    </tr>\n",
       "  </thead>\n",
       "  <tbody>\n",
       "    <tr>\n",
       "      <th>0</th>\n",
       "      <td>1</td>\n",
       "      <td>George Washington</td>\n",
       "      <td>189</td>\n",
       "    </tr>\n",
       "    <tr>\n",
       "      <th>1</th>\n",
       "      <td>2</td>\n",
       "      <td>John Adams</td>\n",
       "      <td>170</td>\n",
       "    </tr>\n",
       "    <tr>\n",
       "      <th>2</th>\n",
       "      <td>3</td>\n",
       "      <td>Thomas Jefferson</td>\n",
       "      <td>189</td>\n",
       "    </tr>\n",
       "    <tr>\n",
       "      <th>3</th>\n",
       "      <td>4</td>\n",
       "      <td>James Madison</td>\n",
       "      <td>163</td>\n",
       "    </tr>\n",
       "    <tr>\n",
       "      <th>4</th>\n",
       "      <td>5</td>\n",
       "      <td>James Monroe</td>\n",
       "      <td>183</td>\n",
       "    </tr>\n",
       "  </tbody>\n",
       "</table>\n",
       "</div>"
      ],
      "text/plain": [
       "   order               name  height(cm)\n",
       "0      1  George Washington         189\n",
       "1      2         John Adams         170\n",
       "2      3   Thomas Jefferson         189\n",
       "3      4      James Madison         163\n",
       "4      5       James Monroe         183"
      ]
     },
     "execution_count": 48,
     "metadata": {},
     "output_type": "execute_result"
    }
   ],
   "source": [
    "data.head()"
   ]
  },
  {
   "cell_type": "code",
   "execution_count": 49,
   "id": "5a0d5ae2",
   "metadata": {},
   "outputs": [
    {
     "name": "stdout",
     "output_type": "stream",
     "text": [
      "Mean Height =  179.73809523809524\n",
      "St.dv Height =  6.931843442745892\n"
     ]
    }
   ],
   "source": [
    "print(f\"Mean Height = \",np.mean(height))\n",
    "print(f\"St.dv Height = \",np.std(height))"
   ]
  },
  {
   "cell_type": "code",
   "execution_count": 50,
   "id": "9cd080f2",
   "metadata": {},
   "outputs": [
    {
     "name": "stdout",
     "output_type": "stream",
     "text": [
      "Mean Height =  179.73809523809524\n",
      "St.dv Height =  6.931843442745892\n"
     ]
    }
   ],
   "source": [
    "print(f\"Mean Height = \",height.mean())\n",
    "print(f\"St.dv Height = \",height.std())"
   ]
  },
  {
   "cell_type": "code",
   "execution_count": 51,
   "id": "494f4c73",
   "metadata": {},
   "outputs": [
    {
     "name": "stdout",
     "output_type": "stream",
     "text": [
      "Max Height =  193\n",
      "Min Height =  163\n"
     ]
    }
   ],
   "source": [
    "print(f\"Max Height = \",np.max(height))\n",
    "print(f\"Min Height = \",np.min(height))"
   ]
  },
  {
   "cell_type": "code",
   "execution_count": 52,
   "id": "ae43cfb5",
   "metadata": {},
   "outputs": [
    {
     "name": "stdout",
     "output_type": "stream",
     "text": [
      "25th precentile Height =  174.25\n",
      "Median Height =  182.0\n",
      "75th Percentile =  183.0\n"
     ]
    }
   ],
   "source": [
    "print(f\"25th precentile Height = \",np.percentile(height,25))\n",
    "print(f\"Median Height = \",np.median(height))\n",
    "print(f\"75th Percentile = \",np.percentile(height,75))"
   ]
  },
  {
   "cell_type": "markdown",
   "id": "3bae8b7a",
   "metadata": {},
   "source": [
    "**We see that the median height of US presidents is 182 cm, or just shy of six feet**"
   ]
  },
  {
   "cell_type": "code",
   "execution_count": 53,
   "id": "b171dadd",
   "metadata": {},
   "outputs": [],
   "source": [
    "%matplotlib inline\n",
    "import matplotlib.pyplot as plt\n",
    "import seaborn; seaborn.set()"
   ]
  },
  {
   "cell_type": "code",
   "execution_count": 54,
   "id": "2784adf0",
   "metadata": {},
   "outputs": [
    {
     "data": {
      "image/png": "[encoded data removed]",
      "text/plain": [
       "<Figure size 432x288 with 1 Axes>"
      ]
     },
     "metadata": {},
     "output_type": "display_data"
    }
   ],
   "source": [
    "plt.hist(heights)\n",
    "plt.title('Height Distribution of US Presidents')\n",
    "plt.xlabel('height (cm)')\n",
    "plt.ylabel('number');"
   ]
  },
  {
   "cell_type": "code",
   "execution_count": null,
   "id": "e8f540d3",
   "metadata": {},
   "outputs": [],
   "source": []
  }
 ],
 "metadata": {
  "kernelspec": {
   "display_name": "Python 3 (ipykernel)",
   "language": "python",
   "name": "python3"
  },
  "language_info": {
   "codemirror_mode": {
    "name": "ipython",
    "version": 3
   },
   "file_extension": ".py",
   "mimetype": "text/x-python",
   "name": "python",
   "nbconvert_exporter": "python",
   "pygments_lexer": "ipython3",
   "version": "3.9.12"
  }
 },
 "nbformat": 4,
 "nbformat_minor": 5
}
