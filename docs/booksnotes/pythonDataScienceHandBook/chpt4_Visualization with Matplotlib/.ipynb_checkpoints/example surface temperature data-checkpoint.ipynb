{
 "cells": [
  {
   "cell_type": "raw",
   "id": "5c66b9c0",
   "metadata": {},
   "source": [
    "---\n",
    "title: \"Notes [Book] Data Science Handbook\"\n",
    "author: \"by Jawad Haider\"\n",
    "format: \n",
    "  gfm: \n",
    "    toc: true\n",
    "    toc-name: Contents\n",
    "link-external-newwindow: true\n",
    "html-math-method: katex\n",
    "anchor-sections: true\n",
    "smooth-scroll: true\n",
    "link-external-icon: true\n",
    "jupyter: python3\n",
    "comments:\n",
    "  hypothesis: \n",
    "    theme: clean\n",
    "reference-location: margin\n",
    "\n",
    "---"
   ]
  },
  {
   "cell_type": "markdown",
   "id": "af6ca7d0",
   "metadata": {},
   "source": [
    "# Example: Surface Temperature Data\n",
    "As an example of visualizing some more continuous geographic data, let’s consider\n",
    "the “polar vortex” that hit the eastern half of the United States in January 2014. A\n",
    "great source for any sort of climatic data is NASA’s Goddard Institute for Space Stud‐\n",
    "ies. Here we’ll use the GIS 250 temperature data, which we can download using shell\n",
    "commands (these commands may have to be modified on Windows machines). The\n",
    "data used here was downloaded on 6/12/2016, and the file size is approximately 9\n",
    "MB:"
   ]
  },
  {
   "cell_type": "code",
   "execution_count": 8,
   "id": "5238b53e",
   "metadata": {},
   "outputs": [
    {
     "name": "stdout",
     "output_type": "stream",
     "text": [
      "  % Total    % Received % Xferd  Average Speed   Time    Time     Time  Current\n",
      "                                 Dload  Upload   Total   Spent    Left  Speed\n",
      "100   263  100   263    0     0    468      0 --:--:-- --:--:-- --:--:--   467\n"
     ]
    }
   ],
   "source": [
    "!curl -O http://data.giss.nasa.gov/pub/gistemp/gistemp250.nc.gz\n"
   ]
  },
  {
   "cell_type": "code",
   "execution_count": 5,
   "id": "ab8d4b1d",
   "metadata": {},
   "outputs": [
    {
     "name": "stdout",
     "output_type": "stream",
     "text": [
      "\r\n",
      "gzip: gistemp250.nc.gz: not in gzip format\r\n"
     ]
    }
   ],
   "source": [
    "!gunzip gistemp250.nc.gz"
   ]
  },
  {
   "cell_type": "markdown",
   "id": "aa6e84d6",
   "metadata": {},
   "source": [
    "The data comes in NetCDF format, which can be read in Python by the netCDF4\n",
    "library. You can install this library as shown here:"
   ]
  },
  {
   "cell_type": "code",
   "execution_count": null,
   "id": "8717fb61",
   "metadata": {},
   "outputs": [],
   "source": [
    "# ! conda install netcdf4"
   ]
  },
  {
   "cell_type": "code",
   "execution_count": 1,
   "id": "e20b77fa",
   "metadata": {},
   "outputs": [],
   "source": [
    "%matplotlib inline\n",
    "import numpy as np\n",
    "import matplotlib.pyplot as plt\n",
    "from mpl_toolkits.basemap import Basemap\n",
    "from PIL import Image"
   ]
  },
  {
   "cell_type": "markdown",
   "id": "277219fb",
   "metadata": {},
   "source": [
    "## Unfortunately, no dataset found !"
   ]
  },
  {
   "cell_type": "code",
   "execution_count": null,
   "id": "5786ab1c",
   "metadata": {},
   "outputs": [],
   "source": [
    "from netCDF4 import Dataset\n",
    "data = Dataset('gistemp250.nc')"
   ]
  },
  {
   "cell_type": "code",
   "execution_count": null,
   "id": "5081a4fa",
   "metadata": {},
   "outputs": [],
   "source": [
    "from netCDF4 import date2index\n",
    "from datetime import datetime\n",
    "timeindex = date2index(datetime(2014, 1, 15),\n",
    "data.variables['time'])"
   ]
  },
  {
   "cell_type": "code",
   "execution_count": null,
   "id": "e644ec69",
   "metadata": {},
   "outputs": [],
   "source": [
    "lat = data.variables['lat'][:]\n",
    "\n",
    "lon = data.variables['lon'][:]\n",
    "\n",
    "lon, lat = np.meshgrid(lon, lat)\n",
    "\n",
    "temp_anomaly = data.variables['tempanomaly'][timeindex]"
   ]
  },
  {
   "cell_type": "code",
   "execution_count": null,
   "id": "cc34fb14",
   "metadata": {},
   "outputs": [],
   "source": [
    "fig = plt.figure(figsize=(10, 8))\n",
    "m = Basemap(projection='lcc', resolution='c',\n",
    "            width=8E6, height=8E6,\n",
    "            lat_0=45, lon_0=-100,)\n",
    "\n",
    "m.shadedrelief(scale=0.5)\n",
    "\n",
    "m.pcolormesh(lon, lat, temp_anomaly,\n",
    "             latlon=True, cmap='RdBu_r')\n",
    "\n",
    "plt.clim(-8, 8)\n",
    "\n",
    "m.drawcoastlines(color='lightgray')\n",
    "\n",
    "plt.title('January 2014 Temperature Anomaly')\n",
    "\n",
    "plt.colorbar(label='temperature anomaly (°C)');"
   ]
  }
 ],
 "metadata": {
  "kernelspec": {
   "display_name": "Python 3 (ipykernel)",
   "language": "python",
   "name": "python3"
  },
  "language_info": {
   "codemirror_mode": {
    "name": "ipython",
    "version": 3
   },
   "file_extension": ".py",
   "mimetype": "text/x-python",
   "name": "python",
   "nbconvert_exporter": "python",
   "pygments_lexer": "ipython3",
   "version": "3.9.12"
  }
 },
 "nbformat": 4,
 "nbformat_minor": 5
}
