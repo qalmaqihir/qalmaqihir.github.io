{
 "cells": [
  {
   "cell_type": "raw",
   "metadata": {},
   "source": [
    "---\n",
    "title: \"Tensorflow BootCamp - Low Level Tensorflow\"\n",
    "author: \"by Jawad Haider\"\n",
    "format: \n",
    "  gfm: \n",
    "    toc: true\n",
    "    toc-name: Contents\n",
    "link-external-newwindow: true\n",
    "html-math-method: katex\n",
    "anchor-sections: true\n",
    "smooth-scroll: true\n",
    "link-external-icon: true\n",
    "jupyter: python3\n",
    "comments:\n",
    "  hypothesis: \n",
    "    theme: clean\n",
    "reference-location: margin\n",
    "\n",
    "---"
   ]
  },
  {
   "cell_type": "markdown",
   "metadata": {},
   "source": [
    "## Basic Computation"
   ]
  },
  {
   "cell_type": "code",
   "execution_count": null,
   "metadata": {
    "colab": {
     "base_uri": "https://localhost:8080/",
     "height": 119
    },
    "id": "ybu7vVRZUSCf",
    "outputId": "46be1272-2fb0-4d61-b0f4-1eae7e62ca7b"
   },
   "outputs": [
    {
     "name": "stdout",
     "output_type": "stream",
     "text": [
      "`%tensorflow_version` only switches the major version: 1.x or 2.x.\n",
      "You set: `2.x  # Colab only.`. This will be interpreted as: `2.x`.\n",
      "\n",
      "\n",
      "TensorFlow 2.x selected.\n",
      "2.2.0-rc2\n"
     ]
    }
   ],
   "source": [
    "# Install TensorFlow\n",
    "# !pip install -q tensorflow-gpu==2.0.0-beta1\n",
    "\n",
    "try:\n",
    "  %tensorflow_version 2.x  # Colab only.\n",
    "except Exception:\n",
    "  pass\n",
    "\n",
    "import tensorflow as tf\n",
    "print(tf.__version__)"
   ]
  },
  {
   "cell_type": "code",
   "execution_count": null,
   "metadata": {
    "colab": {
     "base_uri": "https://localhost:8080/",
     "height": 51
    },
    "id": "rFzIU7_AUXUC",
    "outputId": "c94b774c-6956-4ef5-9ff0-8a4073ff9aac"
   },
   "outputs": [
    {
     "name": "stdout",
     "output_type": "stream",
     "text": [
      "c: tf.Tensor(5.0, shape=(), dtype=float32)\n",
      "c: 5.0\n"
     ]
    }
   ],
   "source": [
    "a = tf.constant(3.0)\n",
    "b = tf.constant(4.0)\n",
    "c = tf.sqrt(a**2 + b**2)\n",
    "print(\"c:\", c)\n",
    "\n",
    "# if you use Python 3 f-strings it will print\n",
    "# the tensor as a float\n",
    "print(f\"c: {c}\") "
   ]
  },
  {
   "cell_type": "code",
   "execution_count": null,
   "metadata": {
    "colab": {
     "base_uri": "https://localhost:8080/",
     "height": 34
    },
    "id": "4bBRby9DNNa7",
    "outputId": "0c61359b-7851-44bb-ef44-e460c57ba776"
   },
   "outputs": [
    {
     "data": {
      "text/plain": [
       "5.0"
      ]
     },
     "execution_count": 8,
     "metadata": {
      "tags": []
     },
     "output_type": "execute_result"
    }
   ],
   "source": [
    "# Get the Numpy version of a Tensor\n",
    "c.numpy()"
   ]
  },
  {
   "cell_type": "code",
   "execution_count": null,
   "metadata": {
    "colab": {
     "base_uri": "https://localhost:8080/",
     "height": 34
    },
    "id": "K785ssSq-BS1",
    "outputId": "bc2156c6-721b-4a8e-9b5e-e876dfc5d93d"
   },
   "outputs": [
    {
     "data": {
      "text/plain": [
       "numpy.float32"
      ]
     },
     "execution_count": 9,
     "metadata": {
      "tags": []
     },
     "output_type": "execute_result"
    }
   ],
   "source": [
    "type(c.numpy())"
   ]
  },
  {
   "cell_type": "code",
   "execution_count": null,
   "metadata": {
    "colab": {
     "base_uri": "https://localhost:8080/",
     "height": 51
    },
    "id": "748FGZXLVbVs",
    "outputId": "be7c3a81-78cb-4919-916b-cb83c9c5578f"
   },
   "outputs": [
    {
     "name": "stdout",
     "output_type": "stream",
     "text": [
      "b: [4 5 6]\n",
      "c: 32\n"
     ]
    }
   ],
   "source": [
    "a = tf.constant([1, 2, 3])\n",
    "b = tf.constant([4, 5, 6])\n",
    "print(f\"b: {b}\")\n",
    "c = tf.tensordot(a, b, axes=[0,0])\n",
    "print(f\"c: {c}\")"
   ]
  },
  {
   "cell_type": "code",
   "execution_count": null,
   "metadata": {
    "id": "9HODyoDw8u0Z"
   },
   "outputs": [],
   "source": [
    "a.numpy().dot(b.numpy())"
   ]
  },
  {
   "cell_type": "code",
   "execution_count": null,
   "metadata": {
    "colab": {
     "base_uri": "https://localhost:8080/",
     "height": 119
    },
    "id": "6-zVUa5GXfpK",
    "outputId": "32f78100-9ef0-4071-d791-e6c4c486d419"
   },
   "outputs": [
    {
     "name": "stdout",
     "output_type": "stream",
     "text": [
      "c0: [[ 1.13966116]\n",
      " [-0.31443995]\n",
      " [-0.78649886]]\n",
      "c: [[ 1.13966116]\n",
      " [-0.31443995]\n",
      " [-0.78649886]]\n"
     ]
    }
   ],
   "source": [
    "import numpy as np\n",
    "A0 = np.random.randn(3, 3)\n",
    "b0 = np.random.randn(3, 1)\n",
    "c0 = A0.dot(b0)\n",
    "print(f\"c0: {c0}\")\n",
    "\n",
    "A = tf.constant(A0)\n",
    "b = tf.constant(b0)\n",
    "c = tf.matmul(A, b)\n",
    "print(f\"c: {c}\")"
   ]
  },
  {
   "cell_type": "code",
   "execution_count": null,
   "metadata": {
    "colab": {
     "base_uri": "https://localhost:8080/",
     "height": 51
    },
    "id": "FMYYAXiSNmQY",
    "outputId": "dd9a31e3-1dce-4e7c-d99d-c134101f0f1d"
   },
   "outputs": [
    {
     "name": "stdout",
     "output_type": "stream",
     "text": [
      "C: [[2 3]\n",
      " [4 5]]\n"
     ]
    }
   ],
   "source": [
    "# Broadcasting\n",
    "A = tf.constant([[1,2],[3,4]])\n",
    "b = tf.constant(1)\n",
    "C = A + b\n",
    "print(f\"C: {C}\")"
   ]
  },
  {
   "cell_type": "code",
   "execution_count": null,
   "metadata": {
    "colab": {
     "base_uri": "https://localhost:8080/",
     "height": 51
    },
    "id": "He4AoIkySocu",
    "outputId": "0e9ac5b7-33de-487b-be2e-de673c8a0671",
    "scrolled": true
   },
   "outputs": [
    {
     "name": "stdout",
     "output_type": "stream",
     "text": [
      "C: [[ 2  6]\n",
      " [12 20]]\n"
     ]
    }
   ],
   "source": [
    "# Element-wise multiplication\n",
    "A = tf.constant([[1,2],[3,4]])\n",
    "B = tf.constant([[2,3],[4,5]])\n",
    "C = A * B\n",
    "print(f\"C: {C}\")"
   ]
  },
  {
   "cell_type": "code",
   "execution_count": null,
   "metadata": {},
   "outputs": [],
   "source": []
  },
  {
   "cell_type": "markdown",
   "metadata": {},
   "source": [
    "<center>\n",
    "\n",
    "<a href=''> ![Logo](../logo1.png) </a>\n",
    "\n",
    "</center>\n",
    "<center>\n",
    "<em>Copyright Qalmaqihir</em>\n",
    "</center>\n",
    "<center>\n",
    "<em>For more information, visit us at\n",
    "<a href='http://www.github.com/qalmaqihir/'>www.github.com/qalmaqihir/</a></em>\n",
    "</center>"
   ]
  },
  {
   "cell_type": "code",
   "execution_count": null,
   "metadata": {},
   "outputs": [],
   "source": []
  }
 ],
 "metadata": {
  "accelerator": "GPU",
  "colab": {
   "collapsed_sections": [],
   "name": "TF2.0 Basic Computation.ipynb",
   "provenance": []
  },
  "kernelspec": {
   "display_name": "Python 3 (ipykernel)",
   "language": "python",
   "name": "python3"
  },
  "language_info": {
   "codemirror_mode": {
    "name": "ipython",
    "version": 3
   },
   "file_extension": ".py",
   "mimetype": "text/x-python",
   "name": "python",
   "nbconvert_exporter": "python",
   "pygments_lexer": "ipython3",
   "version": "3.9.12"
  }
 },
 "nbformat": 4,
 "nbformat_minor": 1
}
