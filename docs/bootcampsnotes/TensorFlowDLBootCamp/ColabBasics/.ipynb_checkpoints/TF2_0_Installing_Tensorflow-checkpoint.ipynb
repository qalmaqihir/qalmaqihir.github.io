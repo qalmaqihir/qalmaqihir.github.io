{
 "cells": [
  {
   "cell_type": "raw",
   "metadata": {},
   "source": [
    "---\n",
    "title: \"Tensorflow BootCamp - Colab Basics Installing Tensorflow\"\n",
    "author: \"by Jawad Haider\"\n",
    "format: \n",
    "  gfm: \n",
    "    toc: true\n",
    "    toc-name: Contents\n",
    "link-external-newwindow: true\n",
    "html-math-method: katex\n",
    "anchor-sections: true\n",
    "smooth-scroll: true\n",
    "link-external-icon: true\n",
    "jupyter: python3\n",
    "comments:\n",
    "  hypothesis: \n",
    "    theme: clean\n",
    "reference-location: margin\n",
    "\n",
    "---"
   ]
  },
  {
   "cell_type": "code",
   "execution_count": null,
   "metadata": {
    "colab": {
     "base_uri": "https://localhost:8080/",
     "height": 34
    },
    "id": "sYY6zMjKQ3HL",
    "outputId": "4844525c-00b5-46a0-a898-14b124a26fa2"
   },
   "outputs": [
    {
     "name": "stdout",
     "output_type": "stream",
     "text": [
      "1.14.0\n"
     ]
    }
   ],
   "source": [
    "# What's already installed?\n",
    "# import tensorflow as tf\n",
    "# print(tf.__version__)"
   ]
  },
  {
   "cell_type": "code",
   "execution_count": null,
   "metadata": {},
   "outputs": [],
   "source": []
  },
  {
   "cell_type": "code",
   "execution_count": null,
   "metadata": {
    "id": "oN60G8BkRDaI"
   },
   "outputs": [],
   "source": [
    "# Install TensorFlow 2.0\n",
    "# You can run regular shell commands by prepending !\n",
    "# !pip install -q tensorflow==2.0.0-beta1\n",
    "\n",
    "# GPU version\n",
    "# !pip install -q tensorflow-gpu==2.0.0-beta1"
   ]
  },
  {
   "cell_type": "code",
   "execution_count": null,
   "metadata": {
    "colab": {
     "base_uri": "https://localhost:8080/",
     "height": 102
    },
    "id": "zEMPt5X6-Jdw",
    "outputId": "26474bf9-3573-4afd-ed4e-3aa7f3f20808"
   },
   "outputs": [
    {
     "name": "stdout",
     "output_type": "stream",
     "text": [
      "`%tensorflow_version` only switches the major version: 1.x or 2.x.\n",
      "You set: `2.x  # Colab only.`. This will be interpreted as: `2.x`.\n",
      "\n",
      "\n",
      "TensorFlow 2.x selected.\n"
     ]
    }
   ],
   "source": [
    "##### UPDATE 2020 #####\n",
    "# new feature of colab - you can just use this\n",
    "try:\n",
    "  %tensorflow_version 2.x  # Colab only.\n",
    "except Exception:\n",
    "  pass"
   ]
  },
  {
   "cell_type": "code",
   "execution_count": null,
   "metadata": {
    "colab": {
     "base_uri": "https://localhost:8080/",
     "height": 34
    },
    "id": "T3w1868HRfJC",
    "outputId": "bdfd224a-f420-4516-aac0-508059057c16"
   },
   "outputs": [
    {
     "name": "stdout",
     "output_type": "stream",
     "text": [
      "2.2.0-rc2\n"
     ]
    }
   ],
   "source": [
    "# Check Tensorflow version again\n",
    "import tensorflow as tf\n",
    "print(tf.__version__)"
   ]
  },
  {
   "cell_type": "code",
   "execution_count": null,
   "metadata": {
    "id": "bEjRfElxS3lg"
   },
   "outputs": [],
   "source": [
    "# How to install a library permanently?\n",
    "# https://stackoverflow.com/questions/55253498/how-do-i-install-a-library-permanently-in-colab"
   ]
  },
  {
   "cell_type": "code",
   "execution_count": null,
   "metadata": {
    "colab": {
     "base_uri": "https://localhost:8080/",
     "height": 34
    },
    "id": "3iPuVaCoTK8g",
    "outputId": "148307ce-ae47-414a-efe0-28660d2a5da1"
   },
   "outputs": [
    {
     "name": "stdout",
     "output_type": "stream",
     "text": [
      "sample_data\n"
     ]
    }
   ],
   "source": [
    "# More fun with !\n",
    "!ls"
   ]
  },
  {
   "cell_type": "code",
   "execution_count": null,
   "metadata": {
    "colab": {
     "base_uri": "https://localhost:8080/",
     "height": 68
    },
    "id": "hvi_5aQXTN25",
    "outputId": "f2ba23c4-a6aa-438d-b90a-b4c70b356027",
    "scrolled": true
   },
   "outputs": [
    {
     "name": "stdout",
     "output_type": "stream",
     "text": [
      "anscombe.json\t\t      mnist_test.csv\n",
      "california_housing_test.csv   mnist_train_small.csv\n",
      "california_housing_train.csv  README.md\n"
     ]
    }
   ],
   "source": [
    "# More fun with !\n",
    "# Nice! Looks like we already have some useful data to work with\n",
    "!ls sample_data"
   ]
  },
  {
   "cell_type": "code",
   "execution_count": null,
   "metadata": {},
   "outputs": [],
   "source": []
  },
  {
   "cell_type": "markdown",
   "metadata": {},
   "source": [
    "<center>\n",
    "\n",
    "<a href=''> ![Logo](../logo1.png) </a>\n",
    "\n",
    "</center>\n",
    "<center>\n",
    "<em>Copyright Qalmaqihir</em>\n",
    "</center>\n",
    "<center>\n",
    "<em>For more information, visit us at\n",
    "<a href='http://www.github.com/qalmaqihir/'>www.github.com/qalmaqihir/</a></em>\n",
    "</center>"
   ]
  },
  {
   "cell_type": "code",
   "execution_count": null,
   "metadata": {},
   "outputs": [],
   "source": [
    "s"
   ]
  }
 ],
 "metadata": {
  "colab": {
   "collapsed_sections": [],
   "name": "TF2.0 Installing Tensorflow.ipynb",
   "provenance": []
  },
  "kernelspec": {
   "display_name": "Python 3 (ipykernel)",
   "language": "python",
   "name": "python3"
  },
  "language_info": {
   "codemirror_mode": {
    "name": "ipython",
    "version": 3
   },
   "file_extension": ".py",
   "mimetype": "text/x-python",
   "name": "python",
   "nbconvert_exporter": "python",
   "pygments_lexer": "ipython3",
   "version": "3.9.12"
  }
 },
 "nbformat": 4,
 "nbformat_minor": 1
}
