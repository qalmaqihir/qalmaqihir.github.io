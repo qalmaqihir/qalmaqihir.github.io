{
 "cells": [
  {
   "cell_type": "code",
   "execution_count": null,
   "metadata": {},
   "outputs": [],
   "source": []
  },
  {
   "cell_type": "markdown",
   "metadata": {},
   "source": [
    "# Great Job! Thats the end of this part.\n",
    "`Don't forget to give a star on github and follow for more curated Computer Science, Machine Learning materials`  \n"
   ]
  },
  {
   "cell_type": "raw",
   "metadata": {},
   "source": [
    "---\n",
    "title: \"Crash Course: Pandas \"\n",
    "author: \"by Jawad Haider\"\n",
    "format:\n",
    "  gfm: \n",
    "    toc: true\n",
    "    gfm-engine-opt: --no-toc-relocation\n",
    "    html-math-method: katex\n",
    "jupyter: python3\n",
    "code-fold: true\n",
    "number-sections: true\n",
    "column: screen-inset-shaded\n",
    "reference-location: section\n",
    "---"
   ]
  },
  {
   "cell_type": "markdown",
   "metadata": {},
   "source": [
    "___\n",
    "\n",
    "<center><a href=''><img src='../img/logo1.png'/></a></center>\n",
    "\n",
    "___ \n",
    "\n",
    "\n",
    "<center><em>Copyright Qalmaqihir</em></center>\n",
    "<center><em>For more information, visit us at <a href='http://www.github.com/qalmaqihir/'>www.github.com/qalmaqihir/</a></em></center>"
   ]
  },
  {
   "cell_type": "markdown",
   "metadata": {
    "jp-MarkdownHeadingCollapsed": true,
    "tags": []
   },
   "source": [
    "# Introduction to Pandas\n",
    "\n",
    "In this section of the course we will learn how to use pandas for data analysis. You can think of pandas as an extremely powerful version of Excel, with a lot more features. In this section of the course, you should go through the notebooks in this order:\n",
    "\n",
    "* Introduction to Pandas\n",
    "* Series\n",
    "* DataFrames\n",
    "* Missing Data\n",
    "* GroupBy\n",
    "* Merging, Joining and Concatenating\n",
    "* Operations\n",
    "* Data Input and Output"
   ]
  },
  {
   "cell_type": "markdown",
   "metadata": {},
   "source": [
    "# Great Job! Thats the end of this part.\n",
    "`Don't forget to give a star on github and follow for more curated Computer Science, Machine Learning materials`  \n"
   ]
  },
  {
   "cell_type": "markdown",
   "metadata": {},
   "source": [
    "___"
   ]
  }
 ],
 "metadata": {
  "kernelspec": {
   "display_name": "Python 3 (ipykernel)",
   "language": "python",
   "name": "python3"
  },
  "language_info": {
   "codemirror_mode": {
    "name": "ipython",
    "version": 3
   },
   "file_extension": ".py",
   "mimetype": "text/x-python",
   "name": "python",
   "nbconvert_exporter": "python",
   "pygments_lexer": "ipython3",
   "version": "3.9.12"
  }
 },
 "nbformat": 4,
 "nbformat_minor": 4
}
