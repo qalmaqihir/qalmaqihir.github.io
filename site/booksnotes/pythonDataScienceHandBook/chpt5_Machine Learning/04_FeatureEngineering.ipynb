{
 "cells": [
  {
   "cell_type": "markdown",
   "id": "9c96f990",
   "metadata": {},
   "source": [
    "# Feature Engineering\n",
    "Till now we had numerical data in a tidy, `[n_samples, n_features]` format. In the real world, data rarely comes in such a form. With this in mind, one of the more important steps in using machine learning in practice is feature engineering—that is, taking whatever information you have about your problem and turning it into numbers that you can use to build your feature matrix.\n",
    "\n",
    "we will cover a few common examples of feature engineering tasks:\n",
    "\n",
    "* features for representing categorical data,  \n",
    "* features for representing text, and\n",
    "* features for representing images. \n",
    "\n",
    "\n",
    "Additionally, we will discuss _derived features_ for increasing model complexity and _imputation of missing data_. Often this process is known as **vectorization**, as it involves converting arbitrary data into well-behaved vectors."
   ]
  },
  {
   "cell_type": "markdown",
   "id": "545b0147",
   "metadata": {},
   "source": [
    "## Categorical Features\n",
    "One common type of non-numerical data is categorical data."
   ]
  },
  {
   "cell_type": "code",
   "execution_count": 1,
   "id": "fe8fe145",
   "metadata": {},
   "outputs": [
    {
     "data": {
      "text/plain": [
       "[{'price': 850000, 'rooms': 4, 'neighborhood': 'Queen Anne'},\n",
       " {'price': 700000, 'rooms': 3, 'neighborhood': 'Fremont'},\n",
       " {'price': 650000, 'rooms': 3, 'neighborhood': 'Wallingford'},\n",
       " {'price': 600000, 'rooms': 2, 'neighborhood': 'Fremont'}]"
      ]
     },
     "execution_count": 1,
     "metadata": {},
     "output_type": "execute_result"
    }
   ],
   "source": [
    "data = [\n",
    "{'price': 850000, 'rooms': 4, 'neighborhood': 'Queen Anne'},\n",
    "{'price': 700000, 'rooms': 3, 'neighborhood': 'Fremont'},\n",
    "{'price': 650000, 'rooms': 3, 'neighborhood': 'Wallingford'},\n",
    "{'price': 600000, 'rooms': 2, 'neighborhood': 'Fremont'}\n",
    "]\n",
    "data"
   ]
  },
  {
   "cell_type": "markdown",
   "id": "a289be76",
   "metadata": {},
   "source": [
    "**Simply we can encode this data with a straightforward numerical mapping**\n",
    "`{'Queen Anne':1, 'Fremnt':2,'Wallingford':3}`\n",
    "\n",
    "It turns out that this is not generally a useful approach in Scikit-Learn: the package’s models make the fundamental assumption that numerical features reflect algebraic\n",
    "quantities. Thus such a mapping would imply, for example, that _Queen Anne < Fre‐\n",
    "mont < Wallingford, or even that Wallingford - Queen Anne = Fremont_, which (niche demographic jokes aside) does not make much sense.\n",
    "\n",
    "**In this case, one proven technique is to use one-hot encoding, which effectively creates\n",
    "extra columns indicating the presence or absence of a category with a value of 1 or 0,\n",
    "respectively. When your data comes as a list of dictionaries, Scikit-Learn’s `DictVectorizer` will do this for you:**\n"
   ]
  },
  {
   "cell_type": "code",
   "execution_count": 3,
   "id": "dfb7726d",
   "metadata": {},
   "outputs": [
    {
     "data": {
      "text/plain": [
       "array([[     0,      1,      0, 850000,      4],\n",
       "       [     1,      0,      0, 700000,      3],\n",
       "       [     0,      0,      1, 650000,      3],\n",
       "       [     1,      0,      0, 600000,      2]])"
      ]
     },
     "execution_count": 3,
     "metadata": {},
     "output_type": "execute_result"
    }
   ],
   "source": [
    "from sklearn.feature_extraction import DictVectorizer\n",
    "vec=DictVectorizer(sparse=False, dtype=int)\n",
    "vec.fit_transform(data)"
   ]
  },
  {
   "cell_type": "markdown",
   "id": "89553393",
   "metadata": {},
   "source": [
    "Notice that the neighborhood column has been expanded into three separate columns,\n",
    "representing the three neighborhood labels, and that each row has a 1 in the column\n",
    "associated with its neighborhood. With these categorical features thus encoded, you\n",
    "can proceed as normal with fitting a Scikit-Learn model."
   ]
  },
  {
   "cell_type": "code",
   "execution_count": 4,
   "id": "329d0503",
   "metadata": {},
   "outputs": [
    {
     "name": "stderr",
     "output_type": "stream",
     "text": [
      "/home/qalmaqihir/anaconda3/lib/python3.9/site-packages/sklearn/utils/deprecation.py:87: FutureWarning: Function get_feature_names is deprecated; get_feature_names is deprecated in 1.0 and will be removed in 1.2. Please use get_feature_names_out instead.\n",
      "  warnings.warn(msg, category=FutureWarning)\n"
     ]
    },
    {
     "data": {
      "text/plain": [
       "['neighborhood=Fremont',\n",
       " 'neighborhood=Queen Anne',\n",
       " 'neighborhood=Wallingford',\n",
       " 'price',\n",
       " 'rooms']"
      ]
     },
     "execution_count": 4,
     "metadata": {},
     "output_type": "execute_result"
    }
   ],
   "source": [
    "vec.get_feature_names()"
   ]
  },
  {
   "cell_type": "markdown",
   "id": "c8791802",
   "metadata": {},
   "source": [
    "**There is one clear disadvantage of this approach: if your category has many possible\n",
    "values, this can greatly increase the size of your dataset.** However, because the encoded data contains mostly zeros, a sparse output can be a very efficient solution:"
   ]
  },
  {
   "cell_type": "code",
   "execution_count": 5,
   "id": "fa925213",
   "metadata": {},
   "outputs": [
    {
     "data": {
      "text/plain": [
       "<4x5 sparse matrix of type '<class 'numpy.int64'>'\n",
       "\twith 12 stored elements in Compressed Sparse Row format>"
      ]
     },
     "execution_count": 5,
     "metadata": {},
     "output_type": "execute_result"
    }
   ],
   "source": [
    "vec=DictVectorizer(sparse=True, dtype=int)\n",
    "vec.fit_transform(data)"
   ]
  },
  {
   "cell_type": "markdown",
   "id": "8466b1c8",
   "metadata": {},
   "source": [
    "Many (though not yet all) of the Scikit-Learn estimators accept such sparse inputs\n",
    "when fitting and evaluating models. `sklearn.preprocessing.OneHotEncoder` and\n",
    "`sklearn.feature_extraction.FeatureHasher` are two additional tools that Scikit-Learn includes to support this type of encoding."
   ]
  },
  {
   "cell_type": "code",
   "execution_count": null,
   "id": "3ec62fa0",
   "metadata": {},
   "outputs": [],
   "source": []
  },
  {
   "cell_type": "markdown",
   "id": "e741723d",
   "metadata": {},
   "source": [
    "## Text Features\n",
    "Another common need in feature engineering is to convert text to a set of representa‐\n",
    "tive numerical values. For example, most automatic mining of social media data relies\n",
    "on some form of encoding the text as numbers. One of the simplest methods of\n",
    "encoding data is by word counts: you take each snippet of text, count the occurrences\n",
    "of each word within it, and put the results in a table."
   ]
  },
  {
   "cell_type": "code",
   "execution_count": 6,
   "id": "cdcaeda6",
   "metadata": {},
   "outputs": [],
   "source": [
    "sample = ['problem of evil',\n",
    "'evil queen',\n",
    "'horizon problem']"
   ]
  },
  {
   "cell_type": "markdown",
   "id": "09e18c2a",
   "metadata": {},
   "source": [
    "For a vectorization of this data based on word count, we could construct a column\n",
    "representing the word “problem,” the word “evil,” the word “horizon,” and so on.\n",
    "While doing this by hand would be possible, we can avoid the tedium by using Scikit-\n",
    "Learn’s CountVectorizer:"
   ]
  },
  {
   "cell_type": "code",
   "execution_count": 7,
   "id": "955e49a7",
   "metadata": {},
   "outputs": [
    {
     "data": {
      "text/plain": [
       "<3x5 sparse matrix of type '<class 'numpy.int64'>'\n",
       "\twith 7 stored elements in Compressed Sparse Row format>"
      ]
     },
     "execution_count": 7,
     "metadata": {},
     "output_type": "execute_result"
    }
   ],
   "source": [
    "from sklearn.feature_extraction.text import CountVectorizer\n",
    "vec=CountVectorizer()\n",
    "X= vec.fit_transform(sample)\n",
    "X"
   ]
  },
  {
   "cell_type": "markdown",
   "id": "fbeb662c",
   "metadata": {},
   "source": [
    "The result is a sparse matrix recording the number of times each word appears; it is easier to inspect if we convert this to a DataFrame with labeled columns:"
   ]
  },
  {
   "cell_type": "code",
   "execution_count": 8,
   "id": "00fc85f8",
   "metadata": {},
   "outputs": [
    {
     "name": "stderr",
     "output_type": "stream",
     "text": [
      "/home/qalmaqihir/anaconda3/lib/python3.9/site-packages/sklearn/utils/deprecation.py:87: FutureWarning: Function get_feature_names is deprecated; get_feature_names is deprecated in 1.0 and will be removed in 1.2. Please use get_feature_names_out instead.\n",
      "  warnings.warn(msg, category=FutureWarning)\n"
     ]
    },
    {
     "data": {
      "text/html": [
       "<div>\n",
       "<style scoped>\n",
       "    .dataframe tbody tr th:only-of-type {\n",
       "        vertical-align: middle;\n",
       "    }\n",
       "\n",
       "    .dataframe tbody tr th {\n",
       "        vertical-align: top;\n",
       "    }\n",
       "\n",
       "    .dataframe thead th {\n",
       "        text-align: right;\n",
       "    }\n",
       "</style>\n",
       "<table border=\"1\" class=\"dataframe\">\n",
       "  <thead>\n",
       "    <tr style=\"text-align: right;\">\n",
       "      <th></th>\n",
       "      <th>evil</th>\n",
       "      <th>horizon</th>\n",
       "      <th>of</th>\n",
       "      <th>problem</th>\n",
       "      <th>queen</th>\n",
       "    </tr>\n",
       "  </thead>\n",
       "  <tbody>\n",
       "    <tr>\n",
       "      <th>0</th>\n",
       "      <td>1</td>\n",
       "      <td>0</td>\n",
       "      <td>1</td>\n",
       "      <td>1</td>\n",
       "      <td>0</td>\n",
       "    </tr>\n",
       "    <tr>\n",
       "      <th>1</th>\n",
       "      <td>1</td>\n",
       "      <td>0</td>\n",
       "      <td>0</td>\n",
       "      <td>0</td>\n",
       "      <td>1</td>\n",
       "    </tr>\n",
       "    <tr>\n",
       "      <th>2</th>\n",
       "      <td>0</td>\n",
       "      <td>1</td>\n",
       "      <td>0</td>\n",
       "      <td>1</td>\n",
       "      <td>0</td>\n",
       "    </tr>\n",
       "  </tbody>\n",
       "</table>\n",
       "</div>"
      ],
      "text/plain": [
       "   evil  horizon  of  problem  queen\n",
       "0     1        0   1        1      0\n",
       "1     1        0   0        0      1\n",
       "2     0        1   0        1      0"
      ]
     },
     "execution_count": 8,
     "metadata": {},
     "output_type": "execute_result"
    }
   ],
   "source": [
    "import pandas as pd\n",
    "pd.DataFrame(X.toarray(), columns=vec.get_feature_names())"
   ]
  },
  {
   "cell_type": "markdown",
   "id": "90fb7682",
   "metadata": {},
   "source": [
    "There are some issues with this approach, however: the raw word counts lead to features that put too much weight on words that appear very frequently, and this can be\n",
    "suboptimal in some classification algorithms. One approach to fix this is known as term **frequency–inverse document frequency (TF–IDF)**, which weights the word counts\n",
    "by a measure of how often they appear in the documents. The syntax for computing\n",
    "these features is similar to the previous example:"
   ]
  },
  {
   "cell_type": "code",
   "execution_count": 9,
   "id": "0882f363",
   "metadata": {},
   "outputs": [
    {
     "name": "stderr",
     "output_type": "stream",
     "text": [
      "/home/qalmaqihir/anaconda3/lib/python3.9/site-packages/sklearn/utils/deprecation.py:87: FutureWarning: Function get_feature_names is deprecated; get_feature_names is deprecated in 1.0 and will be removed in 1.2. Please use get_feature_names_out instead.\n",
      "  warnings.warn(msg, category=FutureWarning)\n"
     ]
    },
    {
     "data": {
      "text/html": [
       "<div>\n",
       "<style scoped>\n",
       "    .dataframe tbody tr th:only-of-type {\n",
       "        vertical-align: middle;\n",
       "    }\n",
       "\n",
       "    .dataframe tbody tr th {\n",
       "        vertical-align: top;\n",
       "    }\n",
       "\n",
       "    .dataframe thead th {\n",
       "        text-align: right;\n",
       "    }\n",
       "</style>\n",
       "<table border=\"1\" class=\"dataframe\">\n",
       "  <thead>\n",
       "    <tr style=\"text-align: right;\">\n",
       "      <th></th>\n",
       "      <th>evil</th>\n",
       "      <th>horizon</th>\n",
       "      <th>of</th>\n",
       "      <th>problem</th>\n",
       "      <th>queen</th>\n",
       "    </tr>\n",
       "  </thead>\n",
       "  <tbody>\n",
       "    <tr>\n",
       "      <th>0</th>\n",
       "      <td>0.517856</td>\n",
       "      <td>0.000000</td>\n",
       "      <td>0.680919</td>\n",
       "      <td>0.517856</td>\n",
       "      <td>0.000000</td>\n",
       "    </tr>\n",
       "    <tr>\n",
       "      <th>1</th>\n",
       "      <td>0.605349</td>\n",
       "      <td>0.000000</td>\n",
       "      <td>0.000000</td>\n",
       "      <td>0.000000</td>\n",
       "      <td>0.795961</td>\n",
       "    </tr>\n",
       "    <tr>\n",
       "      <th>2</th>\n",
       "      <td>0.000000</td>\n",
       "      <td>0.795961</td>\n",
       "      <td>0.000000</td>\n",
       "      <td>0.605349</td>\n",
       "      <td>0.000000</td>\n",
       "    </tr>\n",
       "  </tbody>\n",
       "</table>\n",
       "</div>"
      ],
      "text/plain": [
       "       evil   horizon        of   problem     queen\n",
       "0  0.517856  0.000000  0.680919  0.517856  0.000000\n",
       "1  0.605349  0.000000  0.000000  0.000000  0.795961\n",
       "2  0.000000  0.795961  0.000000  0.605349  0.000000"
      ]
     },
     "execution_count": 9,
     "metadata": {},
     "output_type": "execute_result"
    }
   ],
   "source": [
    "from sklearn.feature_extraction.text import TfidfVectorizer\n",
    "vec=TfidfVectorizer()\n",
    "X=vec.fit_transform(sample)\n",
    "pd.DataFrame(X.toarray(), columns=vec.get_feature_names())"
   ]
  },
  {
   "cell_type": "markdown",
   "id": "d8d391d8",
   "metadata": {},
   "source": [
    "## Image Features\n",
    "Another common need is to suitably encode images for machine learning analysis. The simplest approach is what we used for the digits data in “Introducing Scikit-\n",
    "Learn”: simply using the pixel values themselves. But depending on the application, such approaches may not be optimal.\n",
    "\n",
    "A comprehensive summary of feature extraction techniques for images is well beyond\n",
    "the scope of this section, but you can find excellent implementations of many of the\n",
    "standard approaches in the **Scikit-Image project**."
   ]
  },
  {
   "cell_type": "markdown",
   "id": "69b7517f",
   "metadata": {},
   "source": [
    "## Derived Features\n",
    "Another useful type of feature is one that is mathematically derived from some input\n",
    "features. We saw an example of this in “Hyperparameters and Model Validation” when we constructed polynomial features from our input data. We saw that\n",
    "we could convert a linear regression into a polynomial regression not by changing the\n",
    "model, but by transforming the input! This is sometimes known as basis function\n",
    "regression,"
   ]
  },
  {
   "cell_type": "code",
   "execution_count": 11,
   "id": "8440a33a",
   "metadata": {},
   "outputs": [
    {
     "data": {
      "text/plain": [
       "<matplotlib.collections.PathCollection at 0x7fd5c52d8520>"
      ]
     },
     "execution_count": 11,
     "metadata": {},
     "output_type": "execute_result"
    },
    {
     "data": {
      "image/png": "[encoded data removed]",
      "text/plain": [
       "<Figure size 432x288 with 1 Axes>"
      ]
     },
     "metadata": {
      "needs_background": "light"
     },
     "output_type": "display_data"
    }
   ],
   "source": [
    "# this data clearly cannot be well described by a straight line\n",
    "%matplotlib inline\n",
    "import matplotlib.pyplot as plt\n",
    "import numpy as np\n",
    "\n",
    "x=np.array([1,2,3,4,5])\n",
    "y=np.array([4,2,1,3,7])\n",
    "plt.scatter(x,y)"
   ]
  },
  {
   "cell_type": "code",
   "execution_count": 14,
   "id": "d15b31f9",
   "metadata": {},
   "outputs": [
    {
     "data": {
      "text/plain": [
       "[<matplotlib.lines.Line2D at 0x7fd5c2a34eb0>]"
      ]
     },
     "execution_count": 14,
     "metadata": {},
     "output_type": "execute_result"
    },
    {
     "data": {
      "image/png": "[encoded data removed]",
      "text/plain": [
       "<Figure size 432x288 with 1 Axes>"
      ]
     },
     "metadata": {
      "needs_background": "light"
     },
     "output_type": "display_data"
    }
   ],
   "source": [
    "# Still, we can fit a line to the data using LinearRegression and get the optimal result\n",
    "from sklearn.linear_model import LinearRegression\n",
    "X=x[:, np.newaxis]\n",
    "model=LinearRegression().fit(X,y)\n",
    "yfit=model.predict(X)\n",
    "plt.scatter(x,y)\n",
    "plt.plot(x,yfit)"
   ]
  },
  {
   "cell_type": "markdown",
   "id": "30f51525",
   "metadata": {},
   "source": [
    "**It’s clear that we need a more sophisticated model to describe the relationship\n",
    "between x and y. We can do this by transforming the data, adding extra columns of\n",
    "features to drive more flexibility in the model. For example, we can add polynomial\n",
    "features to the data this way:**"
   ]
  },
  {
   "cell_type": "code",
   "execution_count": 16,
   "id": "5cadd5e5",
   "metadata": {},
   "outputs": [
    {
     "data": {
      "text/plain": [
       "array([[  1.,   1.,   1.],\n",
       "       [  2.,   4.,   8.],\n",
       "       [  3.,   9.,  27.],\n",
       "       [  4.,  16.,  64.],\n",
       "       [  5.,  25., 125.]])"
      ]
     },
     "execution_count": 16,
     "metadata": {},
     "output_type": "execute_result"
    }
   ],
   "source": [
    "from sklearn.preprocessing import PolynomialFeatures\n",
    "poly=PolynomialFeatures(degree=3, include_bias=False)\n",
    "x2=poly.fit_transform(X)\n",
    "x2"
   ]
  },
  {
   "cell_type": "markdown",
   "id": "bcf766c3",
   "metadata": {},
   "source": [
    "The derived feature matrix has one column representing x, and a second column rep‐\n",
    "resenting x2, and a third column representing x3. Computing a linear regression on\n",
    "this expanded input gives a much closer fit to our data"
   ]
  },
  {
   "cell_type": "code",
   "execution_count": 17,
   "id": "f4928f45",
   "metadata": {},
   "outputs": [
    {
     "data": {
      "text/plain": [
       "[<matplotlib.lines.Line2D at 0x7fd5b58166d0>]"
      ]
     },
     "execution_count": 17,
     "metadata": {},
     "output_type": "execute_result"
    },
    {
     "data": {
      "image/png": "[encoded data removed]",
      "text/plain": [
       "<Figure size 432x288 with 1 Axes>"
      ]
     },
     "metadata": {
      "needs_background": "light"
     },
     "output_type": "display_data"
    }
   ],
   "source": [
    "model=LinearRegression().fit(x2,y)\n",
    "yfit=model.predict(x2)\n",
    "plt.scatter(x,y)\n",
    "plt.plot(x,yfit)"
   ]
  },
  {
   "cell_type": "markdown",
   "id": "76717347",
   "metadata": {},
   "source": [
    "**This idea of improving a model not by changing the model, but by transforming the\n",
    "inputs, is fundamental to many of the more powerful machine learning methods.**"
   ]
  },
  {
   "cell_type": "code",
   "execution_count": null,
   "id": "38508838",
   "metadata": {},
   "outputs": [],
   "source": []
  },
  {
   "cell_type": "markdown",
   "id": "c0c07ec3",
   "metadata": {},
   "source": [
    "## Imputation of Missing Data\n",
    "Another common need in feature engineering is handling missing data. We discussed\n",
    "the handling of missing data in DataFrames in “Handling Missing Data” , and saw that often the NaN value is used to mark missing values. For example, we\n",
    "might have a dataset that looks like this:"
   ]
  },
  {
   "cell_type": "code",
   "execution_count": 18,
   "id": "2ac1dce9",
   "metadata": {},
   "outputs": [],
   "source": [
    "from numpy import nan\n",
    "X = np.array([[ nan, 0,3 ],\n",
    "              [ 3,7,9 ],\n",
    "              [ 3,5,2 ],\n",
    "              [ 4,nan, 6 ],\n",
    "              [ 8,8,1 ]])\n",
    "\n",
    "y = np.array([14, 16, -1, 8, -5])"
   ]
  },
  {
   "cell_type": "code",
   "execution_count": 20,
   "id": "66dc284c",
   "metadata": {},
   "outputs": [
    {
     "data": {
      "text/plain": [
       "(array([[nan,  0.,  3.],\n",
       "        [ 3.,  7.,  9.],\n",
       "        [ 3.,  5.,  2.],\n",
       "        [ 4., nan,  6.],\n",
       "        [ 8.,  8.,  1.]]),\n",
       " array([14, 16, -1,  8, -5]))"
      ]
     },
     "execution_count": 20,
     "metadata": {},
     "output_type": "execute_result"
    }
   ],
   "source": [
    "X, y"
   ]
  },
  {
   "cell_type": "markdown",
   "id": "4933036f",
   "metadata": {},
   "source": [
    "When applying a typical machine learning model to such data, we will need to first replace such missing data with some appropriate fill value. This is known as **imputation of missing values**, and strategies range from simple **(e.g., replacing missing values with the mean of the column) to sophisticated (e.g., using matrix completion or a robust model to handle such data).**\n",
    "\n",
    "The sophisticated approaches tend to be very application-specific, and we won’t dive\n",
    "into them here. For a baseline imputation approach, using the mean, median, or most\n",
    "frequent value, Scikit-Learn provides the Imputer class:"
   ]
  },
  {
   "cell_type": "code",
   "execution_count": 26,
   "id": "39683788",
   "metadata": {},
   "outputs": [],
   "source": [
    "from numpy import nan\n",
    "X = np.array([[ nan, 0,3 ],\n",
    "              [ 3,7,9 ],\n",
    "              [ 3,5,2 ],\n",
    "              [ 4,nan, 6 ],\n",
    "              [ 8,8,1 ]])\n",
    "\n",
    "y = np.array([14, 16, -1, 8, -5])"
   ]
  },
  {
   "cell_type": "markdown",
   "id": "2083ab33",
   "metadata": {},
   "source": [
    "We see that in the resulting data, the two missing values have been replaced with the\n",
    "mean of the remaining values in the column. This imputed data can then be fed\n",
    "directly into, for example, a LinearRegression estimator:"
   ]
  },
  {
   "cell_type": "code",
   "execution_count": 24,
   "id": "4d42ad1d",
   "metadata": {},
   "outputs": [
    {
     "data": {
      "text/plain": [
       "array([13.14869292, 14.3784627 , -1.15539732, 10.96606197, -5.33782027])"
      ]
     },
     "execution_count": 24,
     "metadata": {},
     "output_type": "execute_result"
    }
   ],
   "source": [
    "model=LinearRegression().fit(x2,y)\n",
    "model.predict(x2)"
   ]
  },
  {
   "cell_type": "code",
   "execution_count": null,
   "id": "82d13393",
   "metadata": {},
   "outputs": [],
   "source": [
    "\n"
   ]
  },
  {
   "cell_type": "markdown",
   "id": "44c84794",
   "metadata": {},
   "source": [
    "## Feature Pipelines\n",
    "With any of the preceding examples, it can quickly become tedious to do the transfor‐\n",
    "mations by hand, especially if you wish to string together multiple steps. For example,\n",
    "we might want a processing pipeline that looks something like this:\n",
    "1. Impute missing values using the mean\n",
    "2. Transform features to quadratic\n",
    "3. Fit a linear regression\n",
    "\n",
    "To streamline this type of processing pipeline, Scikit-Learn provides a pipeline object,\n",
    "which can be used as follows:"
   ]
  },
  {
   "cell_type": "code",
   "execution_count": 27,
   "id": "812beacd",
   "metadata": {},
   "outputs": [
    {
     "data": {
      "text/plain": [
       "array([[4.5, 0. , 3. ],\n",
       "       [3. , 7. , 9. ],\n",
       "       [3. , 5. , 2. ],\n",
       "       [4. , 5. , 6. ],\n",
       "       [8. , 8. , 1. ]])"
      ]
     },
     "execution_count": 27,
     "metadata": {},
     "output_type": "execute_result"
    }
   ],
   "source": [
    "from sklearn.impute import SimpleImputer # KNNImputer, IterativeImputer\n",
    "imp=SimpleImputer(strategy='mean')\n",
    "x2=imp.fit_transform(X)\n",
    "x2\n"
   ]
  },
  {
   "cell_type": "code",
   "execution_count": 28,
   "id": "e3ab521a",
   "metadata": {},
   "outputs": [],
   "source": [
    "from sklearn.pipeline import make_pipeline\n",
    "model=make_pipeline(SimpleImputer(strategy='mean'),\n",
    "                   PolynomialFeatures(degree=2),\n",
    "                   LinearRegression())\n"
   ]
  },
  {
   "cell_type": "code",
   "execution_count": 30,
   "id": "43aa96d8",
   "metadata": {},
   "outputs": [
    {
     "name": "stdout",
     "output_type": "stream",
     "text": [
      "[14 16 -1  8 -5]\n",
      "[14. 16. -1.  8. -5.]\n"
     ]
    }
   ],
   "source": [
    "model.fit(X,y) # X with missing values \n",
    "print(y)\n",
    "print(model.predict(X))"
   ]
  },
  {
   "cell_type": "markdown",
   "id": "037af472",
   "metadata": {},
   "source": [
    "**All the steps of the model are applied automatically. Notice that for the simplicity of\n",
    "this demonstration, we’ve applied the model to the data it was trained on; this is why\n",
    "it was able to perfectly predict the resul**"
   ]
  },
  {
   "cell_type": "code",
   "execution_count": null,
   "id": "970e2ecb",
   "metadata": {},
   "outputs": [],
   "source": []
  }
 ],
 "metadata": {
  "kernelspec": {
   "display_name": "Python 3 (ipykernel)",
   "language": "python",
   "name": "python3"
  },
  "language_info": {
   "codemirror_mode": {
    "name": "ipython",
    "version": 3
   },
   "file_extension": ".py",
   "mimetype": "text/x-python",
   "name": "python",
   "nbconvert_exporter": "python",
   "pygments_lexer": "ipython3",
   "version": "3.9.12"
  }
 },
 "nbformat": 4,
 "nbformat_minor": 5
}
